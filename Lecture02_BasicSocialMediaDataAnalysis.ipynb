{
 "cells": [
  {
   "cell_type": "markdown",
   "metadata": {},
   "source": [
    "# Lecture 2 - Introduction to Social Media Analytics with Python\n",
    "\n",
    "In this notebook we will learn the basics for analyzing  social media data with Python.  We will study tweets collected by keyword, tweets collected by user, and user profiles.  Some of the skills you will learn include searching and sorting dataframes and making bar and scatter plots.  For more details on the dataframe functions used in this notebook, you can look here: https://pandas.pydata.org/docs/index.html\n",
    "\n",
    "This notebook can be opened in Colab \n",
    "[![Open In Colab](https://colab.research.google.com/assets/colab-badge.svg)](https://colab.research.google.com/github/zlisto/social_media_analytics/blob/main/Lecture02_BasicSocialMediaDataAnalysis.ipynb)\n",
    "\n",
    "Before starting, select \"Runtime->Factory reset runtime\" to start with your directories and environment in the base state.\n",
    "\n",
    "If you want to save changes to the notebook, select \"File->Save a copy in Drive\" from the top menu in Colab.  This will save the notebook in your Google Drive.\n",
    "\n"
   ]
  },
  {
   "cell_type": "markdown",
   "metadata": {},
   "source": [
    "# Clone GitHub Repository\n",
    "This will clone the repository to your machine.  This includes the code and data files.  Then change into the directory of the repository."
   ]
  },
  {
   "cell_type": "code",
   "execution_count": null,
   "metadata": {},
   "outputs": [],
   "source": [
    "!git clone https://github.com/zlisto/social_media_analytics\n",
    "\n",
    "import os\n",
    "os.chdir(\"social_media_analytics\")"
   ]
  },
  {
   "cell_type": "markdown",
   "metadata": {},
   "source": [
    "## Install Requirements \n",
    "\n",
    "We will need to install a few packages first.\n",
    "\n"
   ]
  },
  {
   "cell_type": "code",
   "execution_count": null,
   "metadata": {},
   "outputs": [],
   "source": [
    "!pip install -r requirements.txt"
   ]
  },
  {
   "cell_type": "markdown",
   "metadata": {},
   "source": [
    "## Import packages\n",
    "\n",
    "We import the packages we are going to use.  A package contains several useful functions that make our life easier."
   ]
  },
  {
   "cell_type": "code",
   "execution_count": 1,
   "metadata": {},
   "outputs": [],
   "source": [
    "import pandas as pd\n",
    "import seaborn as sns\n",
    "import matplotlib.pyplot as plt\n",
    "\n",
    "from scripts.api import *\n",
    "\n",
    "\n",
    "#this option makes it so tweets display nicely in a dataframe\n",
    "pd.set_option(\"display.max_colwidth\", None)\n",
    "\n"
   ]
  },
  {
   "cell_type": "markdown",
   "metadata": {},
   "source": [
    "# Keyword Tweets\n",
    "\n",
    "We begin with a set of tweets that contain a specific hashtag.  These were found using Twitter's Search API.  The tweets were saved in a table in a database file.  The filename of the database is stored in the variable `fname_db`.  The table's name is `\"keyword_tweets\"`.  Each row\n",
    "of this table is a tweet with many columns of information.  The most important columns are \"created_at,screen_name,text\".  \n",
    "\n",
    "\n",
    "\n"
   ]
  },
  {
   "cell_type": "markdown",
   "metadata": {},
   "source": [
    "### Load Keyword Tweets\n",
    "We load the tweets from the database using the `DB.fetch` function. The tweets are loaded into a variable called **df** which is a *dataframe*.  Dataframes store each tweet as a row and let us access the rows and columns easily.  We will use dataframes a lot."
   ]
  },
  {
   "cell_type": "code",
   "execution_count": null,
   "metadata": {},
   "outputs": [],
   "source": []
  },
  {
   "cell_type": "code",
   "execution_count": 2,
   "metadata": {},
   "outputs": [],
   "source": [
    "#filename of database\n",
    "fname_db = \"data/lecture_02\"  #database filenmae\n",
    "\n",
    "df = DB.fetch(table_name='keyword_tweets', path=fname_db)\n"
   ]
  },
  {
   "cell_type": "markdown",
   "metadata": {},
   "source": [
    "### Look at the tweets using head() function\n",
    "After we load the tweets in **df**, we look at the first few tweets using the *head* function.  We can specify how many rows to show using the *n* parameter.\n",
    "\n"
   ]
  },
  {
   "cell_type": "code",
   "execution_count": null,
   "metadata": {},
   "outputs": [],
   "source": [
    "\n",
    "\n"
   ]
  },
  {
   "cell_type": "code",
   "execution_count": 3,
   "metadata": {},
   "outputs": [
    {
     "data": {
      "text/html": [
       "<div>\n",
       "<style scoped>\n",
       "    .dataframe tbody tr th:only-of-type {\n",
       "        vertical-align: middle;\n",
       "    }\n",
       "\n",
       "    .dataframe tbody tr th {\n",
       "        vertical-align: top;\n",
       "    }\n",
       "\n",
       "    .dataframe thead th {\n",
       "        text-align: right;\n",
       "    }\n",
       "</style>\n",
       "<table border=\"1\" class=\"dataframe\">\n",
       "  <thead>\n",
       "    <tr style=\"text-align: right;\">\n",
       "      <th></th>\n",
       "      <th>created_at</th>\n",
       "      <th>screen_name</th>\n",
       "      <th>text</th>\n",
       "      <th>lang</th>\n",
       "      <th>retweet_count</th>\n",
       "      <th>reply_count</th>\n",
       "      <th>like_count</th>\n",
       "      <th>quote_count</th>\n",
       "      <th>id</th>\n",
       "      <th>author_id</th>\n",
       "      <th>conversation_id</th>\n",
       "      <th>in_reply_to_user_id</th>\n",
       "      <th>geo</th>\n",
       "      <th>entities</th>\n",
       "    </tr>\n",
       "  </thead>\n",
       "  <tbody>\n",
       "    <tr>\n",
       "      <th>0</th>\n",
       "      <td>2022-01-07T23:58:24.000Z</td>\n",
       "      <td>DoraineGenius</td>\n",
       "      <td>Hong Kong NFT start-ups jockey to become the next Bored Apes and CryptoPunks in an increasingly crowded field\\n@luckykittensnft #Metaverse #BoredApeYachtClub #NewNFT\\n\\n#Ethereum #bitcoin\\n#cryptonews #NFTnews #NFTs #NFTartists #nftcollector #nftgallery #NFTs #cryptoart #Cryptos https://t.co/b0maPJirBV</td>\n",
       "      <td>en</td>\n",
       "      <td>1</td>\n",
       "      <td>0</td>\n",
       "      <td>4</td>\n",
       "      <td>0</td>\n",
       "      <td>1479603356083658753</td>\n",
       "      <td>1308840519234138114</td>\n",
       "      <td>1479603356083658753</td>\n",
       "      <td>nan</td>\n",
       "      <td>nan</td>\n",
       "      <td>{'urls': [{'start': 276, 'end': 299, 'url': 'https://t.co/b0maPJirBV', 'expanded_url': 'https://twitter.com/DoraineGenius/status/1479603356083658753/photo/1', 'display_url': 'pic.twitter.com/b0maPJirBV'}], 'hashtags': [{'start': 127, 'end': 137, 'tag': 'Metaverse'}, {'start': 138, 'end': 156, 'tag': 'BoredApeYachtClub'}, {'start': 157, 'end': 164, 'tag': 'NewNFT'}, {'start': 166, 'end': 175, 'tag': 'Ethereum'}, {'start': 176, 'end': 184, 'tag': 'bitcoin'}, {'start': 185, 'end': 196, 'tag': 'cryptonews'}, {'start': 197, 'end': 205, 'tag': 'NFTnews'}, {'start': 206, 'end': 211, 'tag': 'NFTs'}, {'start': 212, 'end': 223, 'tag': 'NFTartists'}, {'start': 224, 'end': 237, 'tag': 'nftcollector'}, {'start': 238, 'end': 249, 'tag': 'nftgallery'}, {'start': 250, 'end': 255, 'tag': 'NFTs'}, {'start': 256, 'end': 266, 'tag': 'cryptoart'}, {'start': 267, 'end': 275, 'tag': 'Cryptos'}], 'mentions': [{'start': 110, 'end': 126, 'username': 'luckykittensnft', 'id': '1449251281848213505'}]}</td>\n",
       "    </tr>\n",
       "    <tr>\n",
       "      <th>1</th>\n",
       "      <td>2022-01-07T23:54:41.000Z</td>\n",
       "      <td>MrLegendaryAPE</td>\n",
       "      <td>I think head bands in @BoredApeYC are super under valued.\\n\\nI'm not sure if anyone realizes this.\\nBut the head band says\\n (\"Godly Winds\")\\n\\nIf that's not cool I don't know what is.\\n\\nRandom? Or purposeful?\\n\\n@BoredApeYC\\n#MAYC #BAYC\\n#BoredApeYachtClub #BoredApeYC #MutantApeYachtClub https://t.co/e3NWZZAgyN</td>\n",
       "      <td>en</td>\n",
       "      <td>0</td>\n",
       "      <td>5</td>\n",
       "      <td>9</td>\n",
       "      <td>0</td>\n",
       "      <td>1479602421311553536</td>\n",
       "      <td>1424343723563913223</td>\n",
       "      <td>1479602421311553536</td>\n",
       "      <td>nan</td>\n",
       "      <td>nan</td>\n",
       "      <td>{'urls': [{'start': 279, 'end': 302, 'url': 'https://t.co/e3NWZZAgyN', 'expanded_url': 'https://twitter.com/MrLegendaryAPE/status/1479602421311553536/photo/1', 'display_url': 'pic.twitter.com/e3NWZZAgyN'}], 'hashtags': [{'start': 216, 'end': 221, 'tag': 'MAYC'}, {'start': 222, 'end': 227, 'tag': 'BAYC'}, {'start': 228, 'end': 246, 'tag': 'BoredApeYachtClub'}, {'start': 247, 'end': 258, 'tag': 'BoredApeYC'}, {'start': 259, 'end': 278, 'tag': 'MutantApeYachtClub'}], 'mentions': [{'start': 22, 'end': 33, 'username': 'BoredApeYC', 'id': '1381699264011771906'}, {'start': 204, 'end': 215, 'username': 'BoredApeYC', 'id': '1381699264011771906'}]}</td>\n",
       "    </tr>\n",
       "  </tbody>\n",
       "</table>\n",
       "</div>"
      ],
      "text/plain": [
       "                 created_at     screen_name  \\\n",
       "0  2022-01-07T23:58:24.000Z   DoraineGenius   \n",
       "1  2022-01-07T23:54:41.000Z  MrLegendaryAPE   \n",
       "\n",
       "                                                                                                                                                                                                                                                                                                                         text  \\\n",
       "0             Hong Kong NFT start-ups jockey to become the next Bored Apes and CryptoPunks in an increasingly crowded field\\n@luckykittensnft #Metaverse #BoredApeYachtClub #NewNFT\\n\\n#Ethereum #bitcoin\\n#cryptonews #NFTnews #NFTs #NFTartists #nftcollector #nftgallery #NFTs #cryptoart #Cryptos https://t.co/b0maPJirBV   \n",
       "1  I think head bands in @BoredApeYC are super under valued.\\n\\nI'm not sure if anyone realizes this.\\nBut the head band says\\n (\"Godly Winds\")\\n\\nIf that's not cool I don't know what is.\\n\\nRandom? Or purposeful?\\n\\n@BoredApeYC\\n#MAYC #BAYC\\n#BoredApeYachtClub #BoredApeYC #MutantApeYachtClub https://t.co/e3NWZZAgyN   \n",
       "\n",
       "  lang  retweet_count  reply_count  like_count  quote_count  \\\n",
       "0   en              1            0           4            0   \n",
       "1   en              0            5           9            0   \n",
       "\n",
       "                    id            author_id      conversation_id  \\\n",
       "0  1479603356083658753  1308840519234138114  1479603356083658753   \n",
       "1  1479602421311553536  1424343723563913223  1479602421311553536   \n",
       "\n",
       "  in_reply_to_user_id  geo  \\\n",
       "0                 nan  nan   \n",
       "1                 nan  nan   \n",
       "\n",
       "                                                                                                                                                                                                                                                                                                                                                                                                                                                                                                                                                                                                                                                                                                                                                                                                                                                                                                                                                                                                                      entities  \n",
       "0  {'urls': [{'start': 276, 'end': 299, 'url': 'https://t.co/b0maPJirBV', 'expanded_url': 'https://twitter.com/DoraineGenius/status/1479603356083658753/photo/1', 'display_url': 'pic.twitter.com/b0maPJirBV'}], 'hashtags': [{'start': 127, 'end': 137, 'tag': 'Metaverse'}, {'start': 138, 'end': 156, 'tag': 'BoredApeYachtClub'}, {'start': 157, 'end': 164, 'tag': 'NewNFT'}, {'start': 166, 'end': 175, 'tag': 'Ethereum'}, {'start': 176, 'end': 184, 'tag': 'bitcoin'}, {'start': 185, 'end': 196, 'tag': 'cryptonews'}, {'start': 197, 'end': 205, 'tag': 'NFTnews'}, {'start': 206, 'end': 211, 'tag': 'NFTs'}, {'start': 212, 'end': 223, 'tag': 'NFTartists'}, {'start': 224, 'end': 237, 'tag': 'nftcollector'}, {'start': 238, 'end': 249, 'tag': 'nftgallery'}, {'start': 250, 'end': 255, 'tag': 'NFTs'}, {'start': 256, 'end': 266, 'tag': 'cryptoart'}, {'start': 267, 'end': 275, 'tag': 'Cryptos'}], 'mentions': [{'start': 110, 'end': 126, 'username': 'luckykittensnft', 'id': '1449251281848213505'}]}  \n",
       "1                                                                                                                                                                                                                                                                                                                                                       {'urls': [{'start': 279, 'end': 302, 'url': 'https://t.co/e3NWZZAgyN', 'expanded_url': 'https://twitter.com/MrLegendaryAPE/status/1479602421311553536/photo/1', 'display_url': 'pic.twitter.com/e3NWZZAgyN'}], 'hashtags': [{'start': 216, 'end': 221, 'tag': 'MAYC'}, {'start': 222, 'end': 227, 'tag': 'BAYC'}, {'start': 228, 'end': 246, 'tag': 'BoredApeYachtClub'}, {'start': 247, 'end': 258, 'tag': 'BoredApeYC'}, {'start': 259, 'end': 278, 'tag': 'MutantApeYachtClub'}], 'mentions': [{'start': 22, 'end': 33, 'username': 'BoredApeYC', 'id': '1381699264011771906'}, {'start': 204, 'end': 215, 'username': 'BoredApeYC', 'id': '1381699264011771906'}]}  "
      ]
     },
     "execution_count": 3,
     "metadata": {},
     "output_type": "execute_result"
    }
   ],
   "source": [
    "df.head(n=2)"
   ]
  },
  {
   "cell_type": "markdown",
   "metadata": {},
   "source": [
    "### Select Columns of Dataframe\n",
    "\n",
    "Sometimes we just want to look at a few columns of the dataframe.  We can do this by putting the names of the columns we want into a *list*.  In Python, lists have the format `[item_1,item_2,...,item_n]`.  "
   ]
  },
  {
   "cell_type": "code",
   "execution_count": null,
   "metadata": {},
   "outputs": [],
   "source": [
    "\n"
   ]
  },
  {
   "cell_type": "code",
   "execution_count": 4,
   "metadata": {},
   "outputs": [
    {
     "data": {
      "text/html": [
       "<div>\n",
       "<style scoped>\n",
       "    .dataframe tbody tr th:only-of-type {\n",
       "        vertical-align: middle;\n",
       "    }\n",
       "\n",
       "    .dataframe tbody tr th {\n",
       "        vertical-align: top;\n",
       "    }\n",
       "\n",
       "    .dataframe thead th {\n",
       "        text-align: right;\n",
       "    }\n",
       "</style>\n",
       "<table border=\"1\" class=\"dataframe\">\n",
       "  <thead>\n",
       "    <tr style=\"text-align: right;\">\n",
       "      <th></th>\n",
       "      <th>screen_name</th>\n",
       "      <th>text</th>\n",
       "    </tr>\n",
       "  </thead>\n",
       "  <tbody>\n",
       "    <tr>\n",
       "      <th>0</th>\n",
       "      <td>DoraineGenius</td>\n",
       "      <td>Hong Kong NFT start-ups jockey to become the next Bored Apes and CryptoPunks in an increasingly crowded field\\n@luckykittensnft #Metaverse #BoredApeYachtClub #NewNFT\\n\\n#Ethereum #bitcoin\\n#cryptonews #NFTnews #NFTs #NFTartists #nftcollector #nftgallery #NFTs #cryptoart #Cryptos https://t.co/b0maPJirBV</td>\n",
       "    </tr>\n",
       "    <tr>\n",
       "      <th>1</th>\n",
       "      <td>MrLegendaryAPE</td>\n",
       "      <td>I think head bands in @BoredApeYC are super under valued.\\n\\nI'm not sure if anyone realizes this.\\nBut the head band says\\n (\"Godly Winds\")\\n\\nIf that's not cool I don't know what is.\\n\\nRandom? Or purposeful?\\n\\n@BoredApeYC\\n#MAYC #BAYC\\n#BoredApeYachtClub #BoredApeYC #MutantApeYachtClub https://t.co/e3NWZZAgyN</td>\n",
       "    </tr>\n",
       "    <tr>\n",
       "      <th>2</th>\n",
       "      <td>ke1lerr</td>\n",
       "      <td>This was me until I met the @_cryptoapes family now I'm out here spending 7 hours straight with them chattin and crapeing on spaces! #BoredApeYachtClub and #cryptopunks communities have been successfully united already, many more to come :) #CRAPES https://t.co/O9pdAwoRZm</td>\n",
       "    </tr>\n",
       "    <tr>\n",
       "      <th>3</th>\n",
       "      <td>InfiniteDodos</td>\n",
       "      <td>First community AMA announcing 4 functional DAOS at mint was exciting!! \\n\\nDiscord is open 🔓\\n\\nhttps://t.co/Nf7EhfJyYj\\n\\nMore announced soon! \\n\\n#NFT #opensea #NFTGiveaway #eth #DAO #BoredApeYachtClub</td>\n",
       "    </tr>\n",
       "    <tr>\n",
       "      <th>4</th>\n",
       "      <td>__jiri</td>\n",
       "      <td>Cryptos are down but #NFTs are up!  Are you selling for a profit or holding?\\n\\n#LazyLionsNFT #BAYC #boredapeyachtclub #CyberKongz #Cryptopunks #Fidenza #veefriends #NFTCollector #NFTNews #nftcommunity #cryptonft #nftcollector #NFTart #cryptoart https://t.co/UaZOaFx5Xv</td>\n",
       "    </tr>\n",
       "    <tr>\n",
       "      <th>5</th>\n",
       "      <td>nft_tracker</td>\n",
       "      <td>Sold! Bored Ape was purchased by sadsigns_vault for Ξ69.0 ($222k) $ETH #NFT #NFTs  #art #cryptoart  @BoredApeYC #BAYC #BoredApeYachtClub https://t.co/PS0eTxJUj1</td>\n",
       "    </tr>\n",
       "    <tr>\n",
       "      <th>6</th>\n",
       "      <td>kxngoftheether</td>\n",
       "      <td>𝕿𝖍𝖊 𝕶𝖝𝖓𝖌 𝖔𝖋 𝖙𝖍𝖊 𝕰𝖙𝖍𝖊𝖗 𝖍𝖆𝖘 𝖗𝖎𝖘𝖊𝖓!!!\\n#nft #nfts #nftart #nftcollector #cryptoart #ethereum #polygon #blockchain #Solana #boredapeyachtclub #cryptopunks #nftcommunity #rarible #opensea #nftcollectibles #digitalart #mint #minting #discord #ipfs #erc721 https://t.co/fM0c4oRbX0</td>\n",
       "    </tr>\n",
       "    <tr>\n",
       "      <th>7</th>\n",
       "      <td>metaverseunited</td>\n",
       "      <td>🌴NEW Rare Bored Apes Minted NOW!🦧\\n🔥SELLING FAST🔥\\n🚀Get in NOW,take advantage of the Floor Price\\n\\nOpensea: https://t.co/6QS6MbHtyU\\n\\n#NFTCommmunity  #NFTGiveaway #NFTdrop #NFTartists #nftcollectors #Metaverse #crypto #Bitcoin #Ethereum #opensea #BoredApeYachtClub #APENFT https://t.co/vtVBYdt199</td>\n",
       "    </tr>\n",
       "    <tr>\n",
       "      <th>8</th>\n",
       "      <td>thehightablenft</td>\n",
       "      <td>One Lucky Person That Mints A HighTable NFT Will Be Awarded 1 Pound Of Top Shelf Flowers 🔥💨 + All NFT Holders Will Be Granted 1 Quater Of Top Shelf Flowers Every Two Weeks ! #nft #NFTs #NFTCommunity #NFTGame #nftcollectors #opensea #BoredApeYachtClub #NFTdrop #NFTCollection https://t.co/ltH52FH5L7</td>\n",
       "    </tr>\n",
       "    <tr>\n",
       "      <th>9</th>\n",
       "      <td>DavillinNFTs</td>\n",
       "      <td>MINTING YOUR NFTs\\n\\nhttps://t.co/T5YZLKo8rR\\n\\n#NFTs  #NFTCommunity  #NFTGame  #NFTdrop  #NFTGiveaways  #cryptopunks  #BoredApeYachtClub  #cryptocurrency  #Twitter #ETH  #Ethereum</td>\n",
       "    </tr>\n",
       "    <tr>\n",
       "      <th>10</th>\n",
       "      <td>Eddies_NFT</td>\n",
       "      <td>Hi everyone, I’m a new NFT account who is following everyone back who follows me. Let’s share the NFT love❤️#nft #FreeNFTs #Solana #NFTSPACESHIP #BoredApeYachtClub #nftart #BoredApeYC #NFTCollector #NFTCommumity #FreeNFT #NFTartist</td>\n",
       "    </tr>\n",
       "    <tr>\n",
       "      <th>11</th>\n",
       "      <td>Sadmannft</td>\n",
       "      <td>Sadman loki 012 click the link un my bio . https://t.co/FLLJEqUjYc\\n\\n20% of the funds will be donated to an association #nftnews #apeboredyachtclub #BoredApeYachtClub #NFTCommunity #Ethereum #OpenSeaNFT #NFTs #nft https://t.co/OlBRamsp1i</td>\n",
       "    </tr>\n",
       "  </tbody>\n",
       "</table>\n",
       "</div>"
      ],
      "text/plain": [
       "        screen_name  \\\n",
       "0     DoraineGenius   \n",
       "1    MrLegendaryAPE   \n",
       "2           ke1lerr   \n",
       "3     InfiniteDodos   \n",
       "4            __jiri   \n",
       "5       nft_tracker   \n",
       "6    kxngoftheether   \n",
       "7   metaverseunited   \n",
       "8   thehightablenft   \n",
       "9      DavillinNFTs   \n",
       "10       Eddies_NFT   \n",
       "11        Sadmannft   \n",
       "\n",
       "                                                                                                                                                                                                                                                                                                                          text  \n",
       "0              Hong Kong NFT start-ups jockey to become the next Bored Apes and CryptoPunks in an increasingly crowded field\\n@luckykittensnft #Metaverse #BoredApeYachtClub #NewNFT\\n\\n#Ethereum #bitcoin\\n#cryptonews #NFTnews #NFTs #NFTartists #nftcollector #nftgallery #NFTs #cryptoart #Cryptos https://t.co/b0maPJirBV  \n",
       "1   I think head bands in @BoredApeYC are super under valued.\\n\\nI'm not sure if anyone realizes this.\\nBut the head band says\\n (\"Godly Winds\")\\n\\nIf that's not cool I don't know what is.\\n\\nRandom? Or purposeful?\\n\\n@BoredApeYC\\n#MAYC #BAYC\\n#BoredApeYachtClub #BoredApeYC #MutantApeYachtClub https://t.co/e3NWZZAgyN  \n",
       "2                                             This was me until I met the @_cryptoapes family now I'm out here spending 7 hours straight with them chattin and crapeing on spaces! #BoredApeYachtClub and #cryptopunks communities have been successfully united already, many more to come :) #CRAPES https://t.co/O9pdAwoRZm  \n",
       "3                                                                                                                 First community AMA announcing 4 functional DAOS at mint was exciting!! \\n\\nDiscord is open 🔓\\n\\nhttps://t.co/Nf7EhfJyYj\\n\\nMore announced soon! \\n\\n#NFT #opensea #NFTGiveaway #eth #DAO #BoredApeYachtClub  \n",
       "4                                                Cryptos are down but #NFTs are up!  Are you selling for a profit or holding?\\n\\n#LazyLionsNFT #BAYC #boredapeyachtclub #CyberKongz #Cryptopunks #Fidenza #veefriends #NFTCollector #NFTNews #nftcommunity #cryptonft #nftcollector #NFTart #cryptoart https://t.co/UaZOaFx5Xv  \n",
       "5                                                                                                                                                             Sold! Bored Ape was purchased by sadsigns_vault for Ξ69.0 ($222k) $ETH #NFT #NFTs  #art #cryptoart  @BoredApeYC #BAYC #BoredApeYachtClub https://t.co/PS0eTxJUj1  \n",
       "6                                            𝕿𝖍𝖊 𝕶𝖝𝖓𝖌 𝖔𝖋 𝖙𝖍𝖊 𝕰𝖙𝖍𝖊𝖗 𝖍𝖆𝖘 𝖗𝖎𝖘𝖊𝖓!!!\\n#nft #nfts #nftart #nftcollector #cryptoart #ethereum #polygon #blockchain #Solana #boredapeyachtclub #cryptopunks #nftcommunity #rarible #opensea #nftcollectibles #digitalart #mint #minting #discord #ipfs #erc721 https://t.co/fM0c4oRbX0  \n",
       "7                   🌴NEW Rare Bored Apes Minted NOW!🦧\\n🔥SELLING FAST🔥\\n🚀Get in NOW,take advantage of the Floor Price\\n\\nOpensea: https://t.co/6QS6MbHtyU\\n\\n#NFTCommmunity  #NFTGiveaway #NFTdrop #NFTartists #nftcollectors #Metaverse #crypto #Bitcoin #Ethereum #opensea #BoredApeYachtClub #APENFT https://t.co/vtVBYdt199  \n",
       "8                   One Lucky Person That Mints A HighTable NFT Will Be Awarded 1 Pound Of Top Shelf Flowers 🔥💨 + All NFT Holders Will Be Granted 1 Quater Of Top Shelf Flowers Every Two Weeks ! #nft #NFTs #NFTCommunity #NFTGame #nftcollectors #opensea #BoredApeYachtClub #NFTdrop #NFTCollection https://t.co/ltH52FH5L7  \n",
       "9                                                                                                                                         MINTING YOUR NFTs\\n\\nhttps://t.co/T5YZLKo8rR\\n\\n#NFTs  #NFTCommunity  #NFTGame  #NFTdrop  #NFTGiveaways  #cryptopunks  #BoredApeYachtClub  #cryptocurrency  #Twitter #ETH  #Ethereum  \n",
       "10                                                                                     Hi everyone, I’m a new NFT account who is following everyone back who follows me. Let’s share the NFT love❤️#nft #FreeNFTs #Solana #NFTSPACESHIP #BoredApeYachtClub #nftart #BoredApeYC #NFTCollector #NFTCommumity #FreeNFT #NFTartist  \n",
       "11                                                                              Sadman loki 012 click the link un my bio . https://t.co/FLLJEqUjYc\\n\\n20% of the funds will be donated to an association #nftnews #apeboredyachtclub #BoredApeYachtClub #NFTCommunity #Ethereum #OpenSeaNFT #NFTs #nft https://t.co/OlBRamsp1i  "
      ]
     },
     "execution_count": 4,
     "metadata": {},
     "output_type": "execute_result"
    }
   ],
   "source": [
    "col = ['screen_name','text']\n",
    "df[ col].head(n=12)"
   ]
  },
  {
   "cell_type": "markdown",
   "metadata": {},
   "source": [
    "### Sample Rows of Dataframe\n",
    "\n",
    "The `head` function will give the first few rows of the dataframe.  We can use the `sample` function to randomly sample a fixed number of rows."
   ]
  },
  {
   "cell_type": "code",
   "execution_count": null,
   "metadata": {},
   "outputs": [],
   "source": []
  },
  {
   "cell_type": "code",
   "execution_count": 5,
   "metadata": {},
   "outputs": [
    {
     "data": {
      "text/html": [
       "<div>\n",
       "<style scoped>\n",
       "    .dataframe tbody tr th:only-of-type {\n",
       "        vertical-align: middle;\n",
       "    }\n",
       "\n",
       "    .dataframe tbody tr th {\n",
       "        vertical-align: top;\n",
       "    }\n",
       "\n",
       "    .dataframe thead th {\n",
       "        text-align: right;\n",
       "    }\n",
       "</style>\n",
       "<table border=\"1\" class=\"dataframe\">\n",
       "  <thead>\n",
       "    <tr style=\"text-align: right;\">\n",
       "      <th></th>\n",
       "      <th>screen_name</th>\n",
       "      <th>text</th>\n",
       "    </tr>\n",
       "  </thead>\n",
       "  <tbody>\n",
       "    <tr>\n",
       "      <th>4239</th>\n",
       "      <td>Robert_Vandal_</td>\n",
       "      <td>@KrayApe I made a remix of Mega Mutant that \\n@TaylorGerring\\n\\n owns.\\nGRIM RE APE R\\n6.66$eth price\\n1/1\\nhttps://t.co/8ogTwzhjwB… \\n@opensea\\n \\n#nftcollector #nft #nftart #NFTCommunity #nftshill #nftcollection #MutantApeYachtClub #MutantFam #MegaMutant #MAYC #BAYC #BoredApe #BoredApeYachtClub https://t.co/KpChXIJ5k4</td>\n",
       "    </tr>\n",
       "    <tr>\n",
       "      <th>1284</th>\n",
       "      <td>AbstractApeYC</td>\n",
       "      <td>Some recent #Ape happenings:\\n#bayc #boredapeyachtclub #boredape #boredapeyc #nfts #nft #nftcollector #NFTCommunity #NFTcollectibles #NFTcollectible #NFTcollectables #nftcollectors #NFTartists #nftart\\nhttps://t.co/sYl6nVC5eg</td>\n",
       "    </tr>\n",
       "  </tbody>\n",
       "</table>\n",
       "</div>"
      ],
      "text/plain": [
       "         screen_name  \\\n",
       "4239  Robert_Vandal_   \n",
       "1284   AbstractApeYC   \n",
       "\n",
       "                                                                                                                                                                                                                                                                                                                                   text  \n",
       "4239  @KrayApe I made a remix of Mega Mutant that \\n@TaylorGerring\\n\\n owns.\\nGRIM RE APE R\\n6.66$eth price\\n1/1\\nhttps://t.co/8ogTwzhjwB… \\n@opensea\\n \\n#nftcollector #nft #nftart #NFTCommunity #nftshill #nftcollection #MutantApeYachtClub #MutantFam #MegaMutant #MAYC #BAYC #BoredApe #BoredApeYachtClub https://t.co/KpChXIJ5k4  \n",
       "1284                                                                                                  Some recent #Ape happenings:\\n#bayc #boredapeyachtclub #boredape #boredapeyc #nfts #nft #nftcollector #NFTCommunity #NFTcollectibles #NFTcollectible #NFTcollectables #nftcollectors #NFTartists #nftart\\nhttps://t.co/sYl6nVC5eg  "
      ]
     },
     "execution_count": 5,
     "metadata": {},
     "output_type": "execute_result"
    }
   ],
   "source": [
    "df[ ['screen_name','text']].sample(n=2)"
   ]
  },
  {
   "cell_type": "markdown",
   "metadata": {},
   "source": [
    "### Search for Tweets Containing Keywords\n",
    "\n",
    "We can search for tweets in the dataframe which contains a specific keyword.  We do this with the `contains` function.  This function takes the keyword as input in the form of a string (this means you put the word inside quotes).  It also has a parameter `case` which is `True` if you want to match the case of the keyword.\n"
   ]
  },
  {
   "cell_type": "code",
   "execution_count": null,
   "metadata": {},
   "outputs": [],
   "source": []
  },
  {
   "cell_type": "code",
   "execution_count": 6,
   "metadata": {},
   "outputs": [
    {
     "data": {
      "text/html": [
       "<div>\n",
       "<style scoped>\n",
       "    .dataframe tbody tr th:only-of-type {\n",
       "        vertical-align: middle;\n",
       "    }\n",
       "\n",
       "    .dataframe tbody tr th {\n",
       "        vertical-align: top;\n",
       "    }\n",
       "\n",
       "    .dataframe thead th {\n",
       "        text-align: right;\n",
       "    }\n",
       "</style>\n",
       "<table border=\"1\" class=\"dataframe\">\n",
       "  <thead>\n",
       "    <tr style=\"text-align: right;\">\n",
       "      <th></th>\n",
       "      <th>screen_name</th>\n",
       "      <th>text</th>\n",
       "    </tr>\n",
       "  </thead>\n",
       "  <tbody>\n",
       "    <tr>\n",
       "      <th>3596</th>\n",
       "      <td>Sthorium_</td>\n",
       "      <td>Famous rapper Eminem bought the number 9055 from the \"Bored Ape Yacht Club\" NFT collection for $450K (123.45 ETH) and made it her Twitter profile picture.\\n\\n@BoredApeYC \\n#NFT #NFTCommunity #BoredApeYachtClub https://t.co/ijsBjNjVRN</td>\n",
       "    </tr>\n",
       "    <tr>\n",
       "      <th>1003</th>\n",
       "      <td>AnunayAryan1</td>\n",
       "      <td>Most Exclusive Skull  https://t.co/fw8fudHd24 @Eminem @justinbieber @Coinbase_NFT @NearNFTIndia @NFTCommunityy  #NFT #NFTCommunity #NFTGiveaway #1ETH #BoredApeYachtClub #ApesTogetherStrong #NFTdrop #OpenSeaNFT #opensea #nftart #manishmalhotra #Instagram</td>\n",
       "    </tr>\n",
       "    <tr>\n",
       "      <th>716</th>\n",
       "      <td>KryptoMillionss</td>\n",
       "      <td>@Eminem You ever loved an NFT so much you'd give an arm for? I Love the new NFT! Check out @ApeTradersNFT   @opensea  #NFTs #NFT  are the #future #Eminem #Shady #BoredApeYachtClub @nftgallery_art @Coinbase_NFT #Metaverse #APES #BoredApeYachtClub #Ethereum #HBARNFT #AVAX #crypto https://t.co/IFaOEUes8V</td>\n",
       "    </tr>\n",
       "    <tr>\n",
       "      <th>2974</th>\n",
       "      <td>nobleboy4444</td>\n",
       "      <td>@pixelpartynft Eminem bought this Bored Ape Yacht Club #NFT for 123 $ETH (~470,000 USD)!\\n\\nHow much would #ApeFund NFTs sell for? 🤔\\n@ApeFundOfficial #ApeTank \\nStay tuned for more updates on  the Ape Fund NFTs \\n\\n#Crypto #BAYC #APENFT #BoredApeYachtClub #bsc https://t.co/22oPIAK1HO</td>\n",
       "    </tr>\n",
       "    <tr>\n",
       "      <th>4762</th>\n",
       "      <td>Mutant_Mal</td>\n",
       "      <td>@MLGDan23 @thatguygeo @BoredApeYC @Eminem @JesseGrushack @sixweb3 that’s a lot of losers! 😂 #TribeQuokka #MAYC #BAYC #RivalNFTs #TribeQvsBAYC #TQvsBAYC #BoredApeYachtClub #NFT #NFTs #NFTCommunity @TribeQuokka @BoredApeYC</td>\n",
       "    </tr>\n",
       "  </tbody>\n",
       "</table>\n",
       "</div>"
      ],
      "text/plain": [
       "          screen_name  \\\n",
       "3596        Sthorium_   \n",
       "1003     AnunayAryan1   \n",
       "716   KryptoMillionss   \n",
       "2974     nobleboy4444   \n",
       "4762       Mutant_Mal   \n",
       "\n",
       "                                                                                                                                                                                                                                                                                                                text  \n",
       "3596                                                                       Famous rapper Eminem bought the number 9055 from the \"Bored Ape Yacht Club\" NFT collection for $450K (123.45 ETH) and made it her Twitter profile picture.\\n\\n@BoredApeYC \\n#NFT #NFTCommunity #BoredApeYachtClub https://t.co/ijsBjNjVRN  \n",
       "1003                                                   Most Exclusive Skull  https://t.co/fw8fudHd24 @Eminem @justinbieber @Coinbase_NFT @NearNFTIndia @NFTCommunityy  #NFT #NFTCommunity #NFTGiveaway #1ETH #BoredApeYachtClub #ApesTogetherStrong #NFTdrop #OpenSeaNFT #opensea #nftart #manishmalhotra #Instagram  \n",
       "716   @Eminem You ever loved an NFT so much you'd give an arm for? I Love the new NFT! Check out @ApeTradersNFT   @opensea  #NFTs #NFT  are the #future #Eminem #Shady #BoredApeYachtClub @nftgallery_art @Coinbase_NFT #Metaverse #APES #BoredApeYachtClub #Ethereum #HBARNFT #AVAX #crypto https://t.co/IFaOEUes8V  \n",
       "2974                   @pixelpartynft Eminem bought this Bored Ape Yacht Club #NFT for 123 $ETH (~470,000 USD)!\\n\\nHow much would #ApeFund NFTs sell for? 🤔\\n@ApeFundOfficial #ApeTank \\nStay tuned for more updates on  the Ape Fund NFTs \\n\\n#Crypto #BAYC #APENFT #BoredApeYachtClub #bsc https://t.co/22oPIAK1HO  \n",
       "4762                                                                                    @MLGDan23 @thatguygeo @BoredApeYC @Eminem @JesseGrushack @sixweb3 that’s a lot of losers! 😂 #TribeQuokka #MAYC #BAYC #RivalNFTs #TribeQvsBAYC #TQvsBAYC #BoredApeYachtClub #NFT #NFTs #NFTCommunity @TribeQuokka @BoredApeYC  "
      ]
     },
     "execution_count": 6,
     "metadata": {},
     "output_type": "execute_result"
    }
   ],
   "source": [
    "keyword = 'eminem'\n",
    "\n",
    "df[df.text.str.contains(keyword, case = False)][['screen_name','text']].sample(n=5)\n"
   ]
  },
  {
   "cell_type": "markdown",
   "metadata": {},
   "source": [
    "### Count Rows in Dataframe\n",
    "\n",
    "We can use the `len` function to find out how many rows a dataframe has.  Let's find out how many tweets contain a keyword, and then print out the result."
   ]
  },
  {
   "cell_type": "code",
   "execution_count": null,
   "metadata": {},
   "outputs": [],
   "source": [
    "\n"
   ]
  },
  {
   "cell_type": "code",
   "execution_count": 7,
   "metadata": {},
   "outputs": [
    {
     "name": "stdout",
     "output_type": "stream",
     "text": [
      "There are 164 tweets that contain the keyword 'eminem' \n"
     ]
    }
   ],
   "source": [
    "keyword = 'eminem'\n",
    "\n",
    "df_keyword = df[df.text.str.contains('eminem', case = False)][['screen_name','text']] \n",
    "n_keyword = len(df_keyword)\n",
    "\n",
    "print(f\"There are {n_keyword} tweets that contain the keyword '{keyword}' \")"
   ]
  },
  {
   "cell_type": "markdown",
   "metadata": {},
   "source": [
    "### Sort Rows By Column Values\n",
    "We can sort a dataframe's rows by the values in a column with the `sort_value` function.  It takes as input a list of columns, and an optional parameter `ascending` which can be `True` or `False`. \n",
    "\n",
    "Let's sort the tweets in order of decreasing `retweet_count`."
   ]
  },
  {
   "cell_type": "code",
   "execution_count": null,
   "metadata": {},
   "outputs": [],
   "source": []
  },
  {
   "cell_type": "code",
   "execution_count": 8,
   "metadata": {},
   "outputs": [
    {
     "data": {
      "text/html": [
       "<div>\n",
       "<style scoped>\n",
       "    .dataframe tbody tr th:only-of-type {\n",
       "        vertical-align: middle;\n",
       "    }\n",
       "\n",
       "    .dataframe tbody tr th {\n",
       "        vertical-align: top;\n",
       "    }\n",
       "\n",
       "    .dataframe thead th {\n",
       "        text-align: right;\n",
       "    }\n",
       "</style>\n",
       "<table border=\"1\" class=\"dataframe\">\n",
       "  <thead>\n",
       "    <tr style=\"text-align: right;\">\n",
       "      <th></th>\n",
       "      <th>retweet_count</th>\n",
       "      <th>screen_name</th>\n",
       "      <th>text</th>\n",
       "    </tr>\n",
       "  </thead>\n",
       "  <tbody>\n",
       "    <tr>\n",
       "      <th>960</th>\n",
       "      <td>1589</td>\n",
       "      <td>NFTmagzine</td>\n",
       "      <td>#Sheepzy died for all of the #Crypto #BoredApe #BAYC #MAYC #MutantApeYachtClub #BoredApeYachtClub  and #CryptoPunks Sins\\n\\nThe answer to all things is love❤️‍🔥❤️‍🔥❤️‍🔥❤️‍🔥❤️‍🔥❤️‍🔥❤️‍🔥 #SHEEPZYS\\n\\n“So if the Son sets you free, you will be free indeed” John 8:36✝️\\n🐑🐑🐑🐑🐑🐑🐑🐑🐑🐑🐑🐑🐑 https://t.co/IJ4poCtV7J</td>\n",
       "    </tr>\n",
       "    <tr>\n",
       "      <th>2738</th>\n",
       "      <td>830</td>\n",
       "      <td>NFTPirate_</td>\n",
       "      <td>🥳#NFTGiveaway🥳\\n\\n🎁Giving away 1 Bored Ape Crypto Paint #NFT! \\n\\n1️⃣Follow @BACryptoPaint &amp;amp; @BoredApeBC\\n2️⃣❤️&amp;amp; RT\\n3️⃣Tag Friends\\n\\n⏰Ends in 48 hrs \\n\\n#NFTCommunity #NFTGiveaways #NFTs #nftcollectors #nftart #OpenSeaNFT \\n#BoredApeYachtClub #ETH https://t.co/RiTboK2AKH</td>\n",
       "    </tr>\n",
       "    <tr>\n",
       "      <th>3025</th>\n",
       "      <td>825</td>\n",
       "      <td>Eliza_Nft</td>\n",
       "      <td>🥳#NFTGiveaway🥳\\n\\n🎁Giving away 1 Bored Ape Crypto Paint #NFT! \\n\\n1️⃣Follow @BACryptoPaint &amp;amp; @BoredApeBC\\n2️⃣❤️&amp;amp; RT\\n3️⃣Tag Friends\\n\\n⏰Ends in 48 hrs \\n\\n#NFTCommunity #NFTGiveaways #NFTs #nftcollectors #nftart #OpenSeaNFT \\n#BoredApeYachtClub https://t.co/HJG4hAStEr</td>\n",
       "    </tr>\n",
       "    <tr>\n",
       "      <th>4190</th>\n",
       "      <td>662</td>\n",
       "      <td>themonsterguild</td>\n",
       "      <td>🎁🎁 48 HR GIVEAWAY 🎁🎁\\n\\nReceive this FREE MAYC #28474 derivative:\\n\\nApeworks #325\\n\\n1⃣ Like\\n2⃣ Retweet\\n3⃣ Follow me\\n4⃣ Tag 3 NEW friends\\n\\nYou HAVE to follow me to win.\\n\\nEnds Jan 3 @ 8 pm PT\\n\\nSee more: https://t.co/ysml6oP8YG\\n\\n#BoredApeYachtClub #nftgiveaways #MAYC  #nftgiveaway https://t.co/RP8k0kIM9f</td>\n",
       "    </tr>\n",
       "    <tr>\n",
       "      <th>3479</th>\n",
       "      <td>520</td>\n",
       "      <td>BoredApeBC</td>\n",
       "      <td>🥳#NFTGiveaway🥳\\n\\nOne dope Bored Ape Crypto Paint #NFT\\n\\n1⃣Follow @BACryptoPaint and @BoredApeBC\\n2⃣Retweet\\n3⃣Tag 2 friends\\n\\n#NFTCommunity #NFTGiveaways  #NFTs #NFTCollectors #NFTArtist #OpenSeaNFT \\n#BoredApeYachtClub https://t.co/362g8GW7Vm</td>\n",
       "    </tr>\n",
       "  </tbody>\n",
       "</table>\n",
       "</div>"
      ],
      "text/plain": [
       "      retweet_count      screen_name  \\\n",
       "960            1589       NFTmagzine   \n",
       "2738            830       NFTPirate_   \n",
       "3025            825        Eliza_Nft   \n",
       "4190            662  themonsterguild   \n",
       "3479            520       BoredApeBC   \n",
       "\n",
       "                                                                                                                                                                                                                                                                                                                             text  \n",
       "960               #Sheepzy died for all of the #Crypto #BoredApe #BAYC #MAYC #MutantApeYachtClub #BoredApeYachtClub  and #CryptoPunks Sins\\n\\nThe answer to all things is love❤️‍🔥❤️‍🔥❤️‍🔥❤️‍🔥❤️‍🔥❤️‍🔥❤️‍🔥 #SHEEPZYS\\n\\n“So if the Son sets you free, you will be free indeed” John 8:36✝️\\n🐑🐑🐑🐑🐑🐑🐑🐑🐑🐑🐑🐑🐑 https://t.co/IJ4poCtV7J  \n",
       "2738                                    🥳#NFTGiveaway🥳\\n\\n🎁Giving away 1 Bored Ape Crypto Paint #NFT! \\n\\n1️⃣Follow @BACryptoPaint &amp; @BoredApeBC\\n2️⃣❤️&amp; RT\\n3️⃣Tag Friends\\n\\n⏰Ends in 48 hrs \\n\\n#NFTCommunity #NFTGiveaways #NFTs #nftcollectors #nftart #OpenSeaNFT \\n#BoredApeYachtClub #ETH https://t.co/RiTboK2AKH  \n",
       "3025                                         🥳#NFTGiveaway🥳\\n\\n🎁Giving away 1 Bored Ape Crypto Paint #NFT! \\n\\n1️⃣Follow @BACryptoPaint &amp; @BoredApeBC\\n2️⃣❤️&amp; RT\\n3️⃣Tag Friends\\n\\n⏰Ends in 48 hrs \\n\\n#NFTCommunity #NFTGiveaways #NFTs #nftcollectors #nftart #OpenSeaNFT \\n#BoredApeYachtClub https://t.co/HJG4hAStEr  \n",
       "4190  🎁🎁 48 HR GIVEAWAY 🎁🎁\\n\\nReceive this FREE MAYC #28474 derivative:\\n\\nApeworks #325\\n\\n1⃣ Like\\n2⃣ Retweet\\n3⃣ Follow me\\n4⃣ Tag 3 NEW friends\\n\\nYou HAVE to follow me to win.\\n\\nEnds Jan 3 @ 8 pm PT\\n\\nSee more: https://t.co/ysml6oP8YG\\n\\n#BoredApeYachtClub #nftgiveaways #MAYC  #nftgiveaway https://t.co/RP8k0kIM9f  \n",
       "3479                                                                       🥳#NFTGiveaway🥳\\n\\nOne dope Bored Ape Crypto Paint #NFT\\n\\n1⃣Follow @BACryptoPaint and @BoredApeBC\\n2⃣Retweet\\n3⃣Tag 2 friends\\n\\n#NFTCommunity #NFTGiveaways  #NFTs #NFTCollectors #NFTArtist #OpenSeaNFT \\n#BoredApeYachtClub https://t.co/362g8GW7Vm  "
      ]
     },
     "execution_count": 8,
     "metadata": {},
     "output_type": "execute_result"
    }
   ],
   "source": [
    "df[['retweet_count','screen_name','text']].sort_values(by = ['retweet_count'], ascending = False).head(n=5)"
   ]
  },
  {
   "cell_type": "markdown",
   "metadata": {},
   "source": [
    "### Statistics of Columns\n",
    "\n",
    "There are built-in functions in a dataframe to calculate many different statistis, such as `mean`, `median`, `variance`, `std`, and `quantile`.  For `quantile` we need to set the quantile we want in the variable `q`."
   ]
  },
  {
   "cell_type": "code",
   "execution_count": null,
   "metadata": {},
   "outputs": [],
   "source": []
  },
  {
   "cell_type": "code",
   "execution_count": 9,
   "metadata": {},
   "outputs": [
    {
     "name": "stdout",
     "output_type": "stream",
     "text": [
      "Retweet count\n",
      "\tmean = 2.87\n",
      "\tmedian = 0.00\n",
      "\tst. dev. = 34.737457027884005\n",
      "\t0.90 quantile = 2.0\n",
      "\n"
     ]
    }
   ],
   "source": [
    "mean = df['retweet_count'].mean()\n",
    "med = df['retweet_count'].median()\n",
    "std = df['retweet_count'].std()\n",
    "q = 0.9\n",
    "quant = df['retweet_count'].quantile(q)\n",
    "\n",
    "print(f\"Retweet count\\n\\tmean = {mean:.2f}\\n\\tmedian = {med:.2f}\\n\\tst. dev. = {std}\\n\\t{q:.2f} quantile = {quant}\\n\")"
   ]
  },
  {
   "cell_type": "markdown",
   "metadata": {},
   "source": [
    "# User Profiles\n",
    "\n",
    "We next look at a table of user profiles.  These are in the same database in the table `users`."
   ]
  },
  {
   "cell_type": "markdown",
   "metadata": {},
   "source": [
    "### Load User Profiles\n",
    "We load the user profiles from the database using the `DB.fetch` function. The profiles are loaded into a dataframe called **df_u**."
   ]
  },
  {
   "cell_type": "code",
   "execution_count": null,
   "metadata": {},
   "outputs": [],
   "source": [
    "\n",
    "\n"
   ]
  },
  {
   "cell_type": "code",
   "execution_count": 10,
   "metadata": {},
   "outputs": [
    {
     "name": "stdout",
     "output_type": "stream",
     "text": [
      "We have 5 user profiles\n"
     ]
    },
    {
     "data": {
      "text/html": [
       "<div>\n",
       "<style scoped>\n",
       "    .dataframe tbody tr th:only-of-type {\n",
       "        vertical-align: middle;\n",
       "    }\n",
       "\n",
       "    .dataframe tbody tr th {\n",
       "        vertical-align: top;\n",
       "    }\n",
       "\n",
       "    .dataframe thead th {\n",
       "        text-align: right;\n",
       "    }\n",
       "</style>\n",
       "<table border=\"1\" class=\"dataframe\">\n",
       "  <thead>\n",
       "    <tr style=\"text-align: right;\">\n",
       "      <th></th>\n",
       "      <th>created_at</th>\n",
       "      <th>name</th>\n",
       "      <th>screen_name</th>\n",
       "      <th>description</th>\n",
       "      <th>id</th>\n",
       "      <th>location</th>\n",
       "      <th>followers_count</th>\n",
       "      <th>following_count</th>\n",
       "      <th>listed_count</th>\n",
       "      <th>tweet_count</th>\n",
       "    </tr>\n",
       "  </thead>\n",
       "  <tbody>\n",
       "    <tr>\n",
       "      <th>0</th>\n",
       "      <td>2021-04-12T20:02:42.000Z</td>\n",
       "      <td>Bored Ape Yacht Club</td>\n",
       "      <td>BoredApeYC</td>\n",
       "      <td>To become a member, buy a Bored Ape or Mutant Ape on OpenSea. https://t.co/tGx2Lgsf4W\\n\\nDiscord: https://t.co/2Z7jqjX0z1\\nCreated by @yugalabs</td>\n",
       "      <td>1381699264011771906</td>\n",
       "      <td>The Swamp</td>\n",
       "      <td>478884</td>\n",
       "      <td>5077</td>\n",
       "      <td>2919</td>\n",
       "      <td>3629</td>\n",
       "    </tr>\n",
       "    <tr>\n",
       "      <th>1</th>\n",
       "      <td>2017-12-28T02:57:47.000Z</td>\n",
       "      <td>OpenSea</td>\n",
       "      <td>opensea</td>\n",
       "      <td>The largest NFT marketplace. Buy, sell, &amp; discover the internet of goods. Get help at https://t.co/f3KCJaxqBz, or join the community on Discord: https://t.co/HZM49J1NT0</td>\n",
       "      <td>946213559213555712</td>\n",
       "      <td>New York, NY</td>\n",
       "      <td>942331</td>\n",
       "      <td>1885</td>\n",
       "      <td>6758</td>\n",
       "      <td>6009</td>\n",
       "    </tr>\n",
       "    <tr>\n",
       "      <th>2</th>\n",
       "      <td>2019-08-10T16:13:42.000Z</td>\n",
       "      <td>Rarible</td>\n",
       "      <td>rarible</td>\n",
       "      <td>Multi-chain community-centric NFT marketplace. Create, sell and collect digital items. Anything is possible. All are welcome 💛 Links: https://t.co/pwgEU3QMBw</td>\n",
       "      <td>1160222700104757249</td>\n",
       "      <td>🌈</td>\n",
       "      <td>334084</td>\n",
       "      <td>3404</td>\n",
       "      <td>3457</td>\n",
       "      <td>4471</td>\n",
       "    </tr>\n",
       "    <tr>\n",
       "      <th>3</th>\n",
       "      <td>2021-12-24T15:17:44.000Z</td>\n",
       "      <td>TrillionaireNFTS</td>\n",
       "      <td>TrillonaireNFTs</td>\n",
       "      <td>Turning thousands into trillions through NFTs. A collection of jaw droping artwork that will make you look trice.</td>\n",
       "      <td>1474398825301389313</td>\n",
       "      <td>metaverse</td>\n",
       "      <td>2551</td>\n",
       "      <td>5</td>\n",
       "      <td>4</td>\n",
       "      <td>14</td>\n",
       "    </tr>\n",
       "    <tr>\n",
       "      <th>4</th>\n",
       "      <td>2009-03-05T16:33:48.000Z</td>\n",
       "      <td>Marshall Mathers</td>\n",
       "      <td>Eminem</td>\n",
       "      <td></td>\n",
       "      <td>22940219</td>\n",
       "      <td>Detroit</td>\n",
       "      <td>22534616</td>\n",
       "      <td>0</td>\n",
       "      <td>53740</td>\n",
       "      <td>1115</td>\n",
       "    </tr>\n",
       "  </tbody>\n",
       "</table>\n",
       "</div>"
      ],
      "text/plain": [
       "                 created_at                  name      screen_name  \\\n",
       "0  2021-04-12T20:02:42.000Z  Bored Ape Yacht Club       BoredApeYC   \n",
       "1  2017-12-28T02:57:47.000Z               OpenSea          opensea   \n",
       "2  2019-08-10T16:13:42.000Z               Rarible          rarible   \n",
       "3  2021-12-24T15:17:44.000Z      TrillionaireNFTS  TrillonaireNFTs   \n",
       "4  2009-03-05T16:33:48.000Z      Marshall Mathers           Eminem   \n",
       "\n",
       "                                                                                                                                                                description  \\\n",
       "0                           To become a member, buy a Bored Ape or Mutant Ape on OpenSea. https://t.co/tGx2Lgsf4W\\n\\nDiscord: https://t.co/2Z7jqjX0z1\\nCreated by @yugalabs   \n",
       "1  The largest NFT marketplace. Buy, sell, & discover the internet of goods. Get help at https://t.co/f3KCJaxqBz, or join the community on Discord: https://t.co/HZM49J1NT0   \n",
       "2             Multi-chain community-centric NFT marketplace. Create, sell and collect digital items. Anything is possible. All are welcome 💛 Links: https://t.co/pwgEU3QMBw   \n",
       "3                                                         Turning thousands into trillions through NFTs. A collection of jaw droping artwork that will make you look trice.   \n",
       "4                                                                                                                                                                             \n",
       "\n",
       "                    id      location  followers_count  following_count  \\\n",
       "0  1381699264011771906     The Swamp           478884             5077   \n",
       "1   946213559213555712  New York, NY           942331             1885   \n",
       "2  1160222700104757249             🌈           334084             3404   \n",
       "3  1474398825301389313     metaverse             2551                5   \n",
       "4             22940219       Detroit         22534616                0   \n",
       "\n",
       "   listed_count  tweet_count  \n",
       "0          2919         3629  \n",
       "1          6758         6009  \n",
       "2          3457         4471  \n",
       "3             4           14  \n",
       "4         53740         1115  "
      ]
     },
     "execution_count": 10,
     "metadata": {},
     "output_type": "execute_result"
    }
   ],
   "source": [
    "#filename of database\n",
    "fname_db = \"data/lecture_02\"  #database filenmae\n",
    "\n",
    "df_u = DB.fetch(table_name='users', path=fname_db)\n",
    "\n",
    "\n",
    "print(f\"We have {len(df_u)} user profiles\")\n",
    "df_u.head()"
   ]
  },
  {
   "cell_type": "markdown",
   "metadata": {},
   "source": [
    "### Bar Graph of Follower Count\n",
    "\n",
    "We can make a bar graph of the follower count of the users.  To make the plot, we use the `barplot` function in the *seaborn* package.  Details on the seaborn package can be found here: https://seaborn.pydata.org/#\n",
    "\n",
    "To use `barplot`, we need to input the `data`, which is the dataframe, `x`, which is the name of the column for the x-axis, and `y`, which is the name of the column for the y-axis.  There are many other functions that let us edit the plot to make it look nice.  These are from the *matplotlib* package.  One parameter is the `color` parameter.  A complete list of colors is found here: https://matplotlib.org/stable/gallery/color/named_colors.html"
   ]
  },
  {
   "cell_type": "code",
   "execution_count": null,
   "metadata": {},
   "outputs": [],
   "source": [
    "\n"
   ]
  },
  {
   "cell_type": "code",
   "execution_count": 11,
   "metadata": {},
   "outputs": [
    {
     "data": {
      "image/png": "[encoded data removed]",
      "text/plain": [
       "<Figure size 576x432 with 1 Axes>"
      ]
     },
     "metadata": {
      "needs_background": "light"
     },
     "output_type": "display_data"
    }
   ],
   "source": [
    "fig = plt.figure(figsize = (8,6))\n",
    "sns.barplot(data = df_u, x = 'screen_name', y = 'followers_count',\n",
    "           color = 'crimson')\n",
    "plt.xlabel('Screen name', fontsize = 16)\n",
    "plt.ylabel('Followers count', fontsize = 16)\n",
    "plt.xticks(fontsize = 12)\n",
    "plt.yticks(fontsize = 12)\n",
    "plt.title(\"Twitter Users\", fontsize = 20)\n",
    "plt.grid()\n",
    "plt.yscale(\"log\")\n",
    "plt.show()"
   ]
  },
  {
   "cell_type": "markdown",
   "metadata": {},
   "source": [
    "# User Tweets\n",
    "\n",
    "The tweets here were collected from the Twitter timelines of a set of users.  "
   ]
  },
  {
   "cell_type": "markdown",
   "metadata": {},
   "source": [
    "### Load User Tweets\n",
    "\n",
    "The tweets are in the same database in a table called `\"user_tweets\"`.  We can load them with the `DB.fetch` function into a dataframe called `df_ut` (ut for user tweets)."
   ]
  },
  {
   "cell_type": "code",
   "execution_count": null,
   "metadata": {},
   "outputs": [],
   "source": []
  },
  {
   "cell_type": "code",
   "execution_count": 12,
   "metadata": {},
   "outputs": [
    {
     "name": "stdout",
     "output_type": "stream",
     "text": [
      "We have 3402 user tweets\n"
     ]
    },
    {
     "data": {
      "text/html": [
       "<div>\n",
       "<style scoped>\n",
       "    .dataframe tbody tr th:only-of-type {\n",
       "        vertical-align: middle;\n",
       "    }\n",
       "\n",
       "    .dataframe tbody tr th {\n",
       "        vertical-align: top;\n",
       "    }\n",
       "\n",
       "    .dataframe thead th {\n",
       "        text-align: right;\n",
       "    }\n",
       "</style>\n",
       "<table border=\"1\" class=\"dataframe\">\n",
       "  <thead>\n",
       "    <tr style=\"text-align: right;\">\n",
       "      <th></th>\n",
       "      <th>created_at</th>\n",
       "      <th>screen_name</th>\n",
       "      <th>text</th>\n",
       "      <th>lang</th>\n",
       "      <th>retweet_count</th>\n",
       "      <th>reply_count</th>\n",
       "      <th>like_count</th>\n",
       "      <th>quote_count</th>\n",
       "      <th>id</th>\n",
       "      <th>author_id</th>\n",
       "      <th>conversation_id</th>\n",
       "      <th>in_reply_to_user_id</th>\n",
       "      <th>geo</th>\n",
       "    </tr>\n",
       "  </thead>\n",
       "  <tbody>\n",
       "    <tr>\n",
       "      <th>307</th>\n",
       "      <td>2021-12-12T21:20:37.000Z</td>\n",
       "      <td>BoredApeYC</td>\n",
       "      <td>RT @TenaciousEth: The most insane merch I’ve ever seen 🤯\\n\\n@BoredApeYC #MAYC #BAYC https://t.co/OnhKLJj9ZO</td>\n",
       "      <td>en</td>\n",
       "      <td>32</td>\n",
       "      <td>0</td>\n",
       "      <td>0</td>\n",
       "      <td>0</td>\n",
       "      <td>1470141563456139266</td>\n",
       "      <td>1381699264011771906</td>\n",
       "      <td>1470141563456139266</td>\n",
       "      <td>nan</td>\n",
       "      <td>None</td>\n",
       "    </tr>\n",
       "    <tr>\n",
       "      <th>244</th>\n",
       "      <td>2021-12-19T00:34:58.000Z</td>\n",
       "      <td>BoredApeYC</td>\n",
       "      <td>RT @VickijEth: 🦍 meeting 🦍 irl 💜@StonedAbu @Nauc_Naucratis thanks for stopping by 🍦#bayc #apemas @BoredApeYC https://t.co/w8fekxzPdF</td>\n",
       "      <td>en</td>\n",
       "      <td>22</td>\n",
       "      <td>0</td>\n",
       "      <td>0</td>\n",
       "      <td>0</td>\n",
       "      <td>1472364801330487297</td>\n",
       "      <td>1381699264011771906</td>\n",
       "      <td>1472364801330487297</td>\n",
       "      <td>nan</td>\n",
       "      <td>None</td>\n",
       "    </tr>\n",
       "    <tr>\n",
       "      <th>147</th>\n",
       "      <td>2021-12-28T16:32:57.000Z</td>\n",
       "      <td>BoredApeYC</td>\n",
       "      <td>RT @HaroldTelemaque: Took a while but here we are! 🥂🦍@BoredApeYC #BAYC #MAYC https://t.co/GLOxxcnWt5</td>\n",
       "      <td>en</td>\n",
       "      <td>30</td>\n",
       "      <td>0</td>\n",
       "      <td>0</td>\n",
       "      <td>0</td>\n",
       "      <td>1475867378168774657</td>\n",
       "      <td>1381699264011771906</td>\n",
       "      <td>1475867378168774657</td>\n",
       "      <td>nan</td>\n",
       "      <td>None</td>\n",
       "    </tr>\n",
       "    <tr>\n",
       "      <th>2373</th>\n",
       "      <td>2021-12-10T17:03:12.000Z</td>\n",
       "      <td>rarible</td>\n",
       "      <td>Check out the homepage, @Phill_Kapustin &amp;amp; @n3ur0mant1c 😉 https://t.co/14NCF23X6K</td>\n",
       "      <td>en</td>\n",
       "      <td>6</td>\n",
       "      <td>24</td>\n",
       "      <td>49</td>\n",
       "      <td>0</td>\n",
       "      <td>1469352007236341761</td>\n",
       "      <td>1160222700104757249</td>\n",
       "      <td>1469352007236341761</td>\n",
       "      <td>nan</td>\n",
       "      <td>None</td>\n",
       "    </tr>\n",
       "    <tr>\n",
       "      <th>1989</th>\n",
       "      <td>2021-11-11T03:52:21.000Z</td>\n",
       "      <td>opensea</td>\n",
       "      <td>RT @TheVERDANDI: My very first self-portrait, \"Verdandi Reflection.\" This piece is a rare 2017 NFT from my Verdandi Artefacts collection.…</td>\n",
       "      <td>en</td>\n",
       "      <td>23</td>\n",
       "      <td>0</td>\n",
       "      <td>0</td>\n",
       "      <td>0</td>\n",
       "      <td>1458643736183906304</td>\n",
       "      <td>946213559213555712</td>\n",
       "      <td>1458643736183906304</td>\n",
       "      <td>nan</td>\n",
       "      <td>None</td>\n",
       "    </tr>\n",
       "  </tbody>\n",
       "</table>\n",
       "</div>"
      ],
      "text/plain": [
       "                    created_at screen_name  \\\n",
       "307   2021-12-12T21:20:37.000Z  BoredApeYC   \n",
       "244   2021-12-19T00:34:58.000Z  BoredApeYC   \n",
       "147   2021-12-28T16:32:57.000Z  BoredApeYC   \n",
       "2373  2021-12-10T17:03:12.000Z     rarible   \n",
       "1989  2021-11-11T03:52:21.000Z     opensea   \n",
       "\n",
       "                                                                                                                                            text  \\\n",
       "307                                  RT @TenaciousEth: The most insane merch I’ve ever seen 🤯\\n\\n@BoredApeYC #MAYC #BAYC https://t.co/OnhKLJj9ZO   \n",
       "244         RT @VickijEth: 🦍 meeting 🦍 irl 💜@StonedAbu @Nauc_Naucratis thanks for stopping by 🍦#bayc #apemas @BoredApeYC https://t.co/w8fekxzPdF   \n",
       "147                                         RT @HaroldTelemaque: Took a while but here we are! 🥂🦍@BoredApeYC #BAYC #MAYC https://t.co/GLOxxcnWt5   \n",
       "2373                                                        Check out the homepage, @Phill_Kapustin &amp; @n3ur0mant1c 😉 https://t.co/14NCF23X6K   \n",
       "1989  RT @TheVERDANDI: My very first self-portrait, \"Verdandi Reflection.\" This piece is a rare 2017 NFT from my Verdandi Artefacts collection.…   \n",
       "\n",
       "     lang  retweet_count  reply_count  like_count  quote_count  \\\n",
       "307    en             32            0           0            0   \n",
       "244    en             22            0           0            0   \n",
       "147    en             30            0           0            0   \n",
       "2373   en              6           24          49            0   \n",
       "1989   en             23            0           0            0   \n",
       "\n",
       "                       id            author_id      conversation_id  \\\n",
       "307   1470141563456139266  1381699264011771906  1470141563456139266   \n",
       "244   1472364801330487297  1381699264011771906  1472364801330487297   \n",
       "147   1475867378168774657  1381699264011771906  1475867378168774657   \n",
       "2373  1469352007236341761  1160222700104757249  1469352007236341761   \n",
       "1989  1458643736183906304   946213559213555712  1458643736183906304   \n",
       "\n",
       "     in_reply_to_user_id   geo  \n",
       "307                  nan  None  \n",
       "244                  nan  None  \n",
       "147                  nan  None  \n",
       "2373                 nan  None  \n",
       "1989                 nan  None  "
      ]
     },
     "execution_count": 12,
     "metadata": {},
     "output_type": "execute_result"
    }
   ],
   "source": [
    "#filename of database\n",
    "fname_db = 'data/lecture_02'\n",
    "\n",
    "df_ut = DB.fetch(table_name = 'user_tweets', path = fname_db)\n",
    "\n",
    "print(f\"We have {len(df_ut)} user tweets\")\n",
    "df_ut.sample(n=5)"
   ]
  },
  {
   "cell_type": "markdown",
   "metadata": {},
   "source": [
    "### Group Tweets\n",
    "\n",
    "We can group the tweets using the `groupby` function.  Once we group the tweets, we can calculate apply other functions to tweets in the group, such as `mean`.  We do this for the `retweet_count` column."
   ]
  },
  {
   "cell_type": "code",
   "execution_count": null,
   "metadata": {},
   "outputs": [],
   "source": []
  },
  {
   "cell_type": "code",
   "execution_count": 13,
   "metadata": {},
   "outputs": [
    {
     "data": {
      "text/html": [
       "<div>\n",
       "<style scoped>\n",
       "    .dataframe tbody tr th:only-of-type {\n",
       "        vertical-align: middle;\n",
       "    }\n",
       "\n",
       "    .dataframe tbody tr th {\n",
       "        vertical-align: top;\n",
       "    }\n",
       "\n",
       "    .dataframe thead th {\n",
       "        text-align: right;\n",
       "    }\n",
       "</style>\n",
       "<table border=\"1\" class=\"dataframe\">\n",
       "  <thead>\n",
       "    <tr style=\"text-align: right;\">\n",
       "      <th></th>\n",
       "      <th>retweet_count</th>\n",
       "      <th>reply_count</th>\n",
       "      <th>like_count</th>\n",
       "      <th>quote_count</th>\n",
       "    </tr>\n",
       "    <tr>\n",
       "      <th>screen_name</th>\n",
       "      <th></th>\n",
       "      <th></th>\n",
       "      <th></th>\n",
       "      <th></th>\n",
       "    </tr>\n",
       "  </thead>\n",
       "  <tbody>\n",
       "    <tr>\n",
       "      <th>BoredApeYC</th>\n",
       "      <td>124.068244</td>\n",
       "      <td>9.302093</td>\n",
       "      <td>108.936306</td>\n",
       "      <td>3.618744</td>\n",
       "    </tr>\n",
       "    <tr>\n",
       "      <th>Eminem</th>\n",
       "      <td>5518.810526</td>\n",
       "      <td>1053.678947</td>\n",
       "      <td>37084.584211</td>\n",
       "      <td>766.400000</td>\n",
       "    </tr>\n",
       "    <tr>\n",
       "      <th>TrillonaireNFTs</th>\n",
       "      <td>418.285714</td>\n",
       "      <td>416.642857</td>\n",
       "      <td>454.928571</td>\n",
       "      <td>116.642857</td>\n",
       "    </tr>\n",
       "    <tr>\n",
       "      <th>opensea</th>\n",
       "      <td>115.584167</td>\n",
       "      <td>134.103731</td>\n",
       "      <td>179.563239</td>\n",
       "      <td>5.386715</td>\n",
       "    </tr>\n",
       "    <tr>\n",
       "      <th>rarible</th>\n",
       "      <td>29.650000</td>\n",
       "      <td>29.016000</td>\n",
       "      <td>74.770000</td>\n",
       "      <td>2.435000</td>\n",
       "    </tr>\n",
       "  </tbody>\n",
       "</table>\n",
       "</div>"
      ],
      "text/plain": [
       "                 retweet_count  reply_count    like_count  quote_count\n",
       "screen_name                                                           \n",
       "BoredApeYC          124.068244     9.302093    108.936306     3.618744\n",
       "Eminem             5518.810526  1053.678947  37084.584211   766.400000\n",
       "TrillonaireNFTs     418.285714   416.642857    454.928571   116.642857\n",
       "opensea             115.584167   134.103731    179.563239     5.386715\n",
       "rarible              29.650000    29.016000     74.770000     2.435000"
      ]
     },
     "execution_count": 13,
     "metadata": {},
     "output_type": "execute_result"
    }
   ],
   "source": [
    "df_ut.groupby('screen_name').mean()\n",
    "\n"
   ]
  },
  {
   "cell_type": "markdown",
   "metadata": {},
   "source": [
    "### Barplot Retweet Count of Groups\n",
    "\n",
    "We can make a barplot of a column value on the y-axis, and the group on the x-axis.  Seaborn knows to group together tweets in the same group, and plot the mean value along with error bars. In this case, we will plot `retweet_count` on the y-axis, and the groups are the `screen_name` column."
   ]
  },
  {
   "cell_type": "code",
   "execution_count": 14,
   "metadata": {},
   "outputs": [
    {
     "data": {
      "image/png": "[encoded data removed]",
      "text/plain": [
       "<Figure size 576x432 with 1 Axes>"
      ]
     },
     "metadata": {
      "needs_background": "light"
     },
     "output_type": "display_data"
    }
   ],
   "source": [
    "fig = plt.figure(figsize = (8,6))\n",
    "sns.barplot(data = df_ut, x = 'screen_name', y = 'retweet_count', color = \"blue\")\n",
    "plt.xlabel('Screen name', fontsize = 16)\n",
    "plt.ylabel('Retweet count', fontsize = 16)\n",
    "plt.xticks(fontsize = 12)\n",
    "plt.yticks(fontsize = 12)\n",
    "plt.title(\"Twitter Users\", fontsize = 20)\n",
    "plt.grid()\n",
    "plt.yscale(\"log\")\n",
    "plt.show()\n"
   ]
  },
  {
   "cell_type": "markdown",
   "metadata": {},
   "source": [
    "### Subplots\n",
    "\n",
    "We can plot two figures side by side using the `subplot` function.  You need to specify the number of rows and columns in your subplot grid, and specify which grid box the plot goes in.  It is something like this: `subplot(rows, columns, box_number)`.\n"
   ]
  },
  {
   "cell_type": "code",
   "execution_count": null,
   "metadata": {},
   "outputs": [],
   "source": []
  },
  {
   "cell_type": "code",
   "execution_count": null,
   "metadata": {},
   "outputs": [],
   "source": []
  },
  {
   "cell_type": "code",
   "execution_count": 15,
   "metadata": {},
   "outputs": [
    {
     "data": {
      "image/png": "[encoded data removed]",
      "text/plain": [
       "<Figure size 1152x432 with 2 Axes>"
      ]
     },
     "metadata": {
      "needs_background": "light"
     },
     "output_type": "display_data"
    }
   ],
   "source": [
    "fig = plt.figure(figsize = (16,6))\n",
    "\n",
    "plt.subplot(1,2,1)\n",
    "sns.barplot(data = df_u, x = 'screen_name', y = 'followers_count',\n",
    "           color = 'crimson')\n",
    "plt.xlabel('Screen name', fontsize = 16)\n",
    "plt.ylabel('Followers count', fontsize = 16)\n",
    "plt.xticks(fontsize = 12)\n",
    "plt.yticks(fontsize = 12)\n",
    "plt.title(\"Twitter Users\", fontsize = 20)\n",
    "plt.grid()\n",
    "plt.yscale(\"log\")\n",
    "\n",
    "plt.subplot(1,2,2)\n",
    "sns.barplot(data = df_ut, x = 'screen_name', y = 'retweet_count', color = \"blue\")\n",
    "plt.xlabel('Screen name', fontsize = 16)\n",
    "plt.ylabel('Retweet count', fontsize = 16)\n",
    "plt.xticks(fontsize = 12)\n",
    "plt.yticks(fontsize = 12)\n",
    "plt.title(\"Twitter Users\", fontsize = 20)\n",
    "plt.grid()\n",
    "plt.yscale(\"log\")\n",
    "\n",
    "\n",
    "\n",
    "plt.show()"
   ]
  },
  {
   "cell_type": "markdown",
   "metadata": {},
   "source": [
    "### Compare Tweets Containing Different Keywords\n",
    "\n",
    "We can compare the retweet count of tweets that contain a keyword versus those that do not.  We do this by adding a column to the dataframe called `has_keyword` that is `True` if the tweet has the word.  We can then plot the tweets grouped by screen name, and separate within the group those where `has_keyword` is `True` and `False`.  We use the `hue` parameter for this in-group separation."
   ]
  },
  {
   "cell_type": "code",
   "execution_count": null,
   "metadata": {},
   "outputs": [],
   "source": []
  },
  {
   "cell_type": "code",
   "execution_count": 16,
   "metadata": {},
   "outputs": [
    {
     "data": {
      "image/png": "[encoded data removed]",
      "text/plain": [
       "<Figure size 576x432 with 1 Axes>"
      ]
     },
     "metadata": {
      "needs_background": "light"
     },
     "output_type": "display_data"
    }
   ],
   "source": [
    "keyword = 'drops'\n",
    "\n",
    "df_ut['has_keyword'] = df_ut.text.str.contains(keyword, case = False)\n",
    "\n",
    "fig = plt.figure(figsize = (8,6))\n",
    "sns.barplot(data = df_ut, x = 'screen_name', y = 'retweet_count',\n",
    "                hue = 'has_keyword')\n",
    "plt.xlabel('Screen name',fontsize  = 14)\n",
    "plt.ylabel('Retweet count',fontsize  = 14)\n",
    "plt.title(f\"Keyword ={keyword}\",fontsize = 18)\n",
    "plt.yscale('log')\n",
    "plt.grid()\n",
    "plt.show()"
   ]
  },
  {
   "cell_type": "markdown",
   "metadata": {},
   "source": [
    "### Describe Groups\n",
    "\n",
    "We can group the tweets by `screen_name` and `has_keyword` using the `groupby` function.  Then we can summarize the statistics of the groups in a dataframe by using the `describe` function."
   ]
  },
  {
   "cell_type": "code",
   "execution_count": null,
   "metadata": {},
   "outputs": [],
   "source": []
  },
  {
   "cell_type": "code",
   "execution_count": 17,
   "metadata": {},
   "outputs": [
    {
     "name": "stdout",
     "output_type": "stream",
     "text": [
      "Keyword is drops\n"
     ]
    },
    {
     "data": {
      "text/html": [
       "<div>\n",
       "<style scoped>\n",
       "    .dataframe tbody tr th:only-of-type {\n",
       "        vertical-align: middle;\n",
       "    }\n",
       "\n",
       "    .dataframe tbody tr th {\n",
       "        vertical-align: top;\n",
       "    }\n",
       "\n",
       "    .dataframe thead tr th {\n",
       "        text-align: left;\n",
       "    }\n",
       "\n",
       "    .dataframe thead tr:last-of-type th {\n",
       "        text-align: right;\n",
       "    }\n",
       "</style>\n",
       "<table border=\"1\" class=\"dataframe\">\n",
       "  <thead>\n",
       "    <tr>\n",
       "      <th></th>\n",
       "      <th></th>\n",
       "      <th colspan=\"8\" halign=\"left\">retweet_count</th>\n",
       "    </tr>\n",
       "    <tr>\n",
       "      <th></th>\n",
       "      <th></th>\n",
       "      <th>count</th>\n",
       "      <th>mean</th>\n",
       "      <th>std</th>\n",
       "      <th>min</th>\n",
       "      <th>25%</th>\n",
       "      <th>50%</th>\n",
       "      <th>75%</th>\n",
       "      <th>max</th>\n",
       "    </tr>\n",
       "    <tr>\n",
       "      <th>screen_name</th>\n",
       "      <th>has_keyword</th>\n",
       "      <th></th>\n",
       "      <th></th>\n",
       "      <th></th>\n",
       "      <th></th>\n",
       "      <th></th>\n",
       "      <th></th>\n",
       "      <th></th>\n",
       "      <th></th>\n",
       "    </tr>\n",
       "  </thead>\n",
       "  <tbody>\n",
       "    <tr>\n",
       "      <th>BoredApeYC</th>\n",
       "      <th>False</th>\n",
       "      <td>1099.0</td>\n",
       "      <td>124.068244</td>\n",
       "      <td>415.553516</td>\n",
       "      <td>0.0</td>\n",
       "      <td>15.00</td>\n",
       "      <td>28.0</td>\n",
       "      <td>69.00</td>\n",
       "      <td>6213.0</td>\n",
       "    </tr>\n",
       "    <tr>\n",
       "      <th rowspan=\"2\" valign=\"top\">Eminem</th>\n",
       "      <th>False</th>\n",
       "      <td>188.0</td>\n",
       "      <td>5537.675532</td>\n",
       "      <td>8692.083925</td>\n",
       "      <td>392.0</td>\n",
       "      <td>1496.75</td>\n",
       "      <td>2648.5</td>\n",
       "      <td>5184.75</td>\n",
       "      <td>68467.0</td>\n",
       "    </tr>\n",
       "    <tr>\n",
       "      <th>True</th>\n",
       "      <td>2.0</td>\n",
       "      <td>3745.500000</td>\n",
       "      <td>4024.144692</td>\n",
       "      <td>900.0</td>\n",
       "      <td>2322.75</td>\n",
       "      <td>3745.5</td>\n",
       "      <td>5168.25</td>\n",
       "      <td>6591.0</td>\n",
       "    </tr>\n",
       "    <tr>\n",
       "      <th>TrillonaireNFTs</th>\n",
       "      <th>False</th>\n",
       "      <td>14.0</td>\n",
       "      <td>418.285714</td>\n",
       "      <td>236.813925</td>\n",
       "      <td>2.0</td>\n",
       "      <td>232.00</td>\n",
       "      <td>441.0</td>\n",
       "      <td>572.00</td>\n",
       "      <td>731.0</td>\n",
       "    </tr>\n",
       "    <tr>\n",
       "      <th rowspan=\"2\" valign=\"top\">opensea</th>\n",
       "      <th>False</th>\n",
       "      <td>1085.0</td>\n",
       "      <td>113.103226</td>\n",
       "      <td>1546.156799</td>\n",
       "      <td>0.0</td>\n",
       "      <td>15.00</td>\n",
       "      <td>33.0</td>\n",
       "      <td>63.00</td>\n",
       "      <td>50789.0</td>\n",
       "    </tr>\n",
       "    <tr>\n",
       "      <th>True</th>\n",
       "      <td>14.0</td>\n",
       "      <td>307.857143</td>\n",
       "      <td>367.119108</td>\n",
       "      <td>1.0</td>\n",
       "      <td>37.00</td>\n",
       "      <td>107.5</td>\n",
       "      <td>614.75</td>\n",
       "      <td>1063.0</td>\n",
       "    </tr>\n",
       "    <tr>\n",
       "      <th rowspan=\"2\" valign=\"top\">rarible</th>\n",
       "      <th>False</th>\n",
       "      <td>985.0</td>\n",
       "      <td>29.768528</td>\n",
       "      <td>67.400176</td>\n",
       "      <td>0.0</td>\n",
       "      <td>5.00</td>\n",
       "      <td>13.0</td>\n",
       "      <td>29.00</td>\n",
       "      <td>1008.0</td>\n",
       "    </tr>\n",
       "    <tr>\n",
       "      <th>True</th>\n",
       "      <td>15.0</td>\n",
       "      <td>21.866667</td>\n",
       "      <td>13.922575</td>\n",
       "      <td>0.0</td>\n",
       "      <td>15.00</td>\n",
       "      <td>25.0</td>\n",
       "      <td>27.00</td>\n",
       "      <td>48.0</td>\n",
       "    </tr>\n",
       "  </tbody>\n",
       "</table>\n",
       "</div>"
      ],
      "text/plain": [
       "                            retweet_count                                   \\\n",
       "                                    count         mean          std    min   \n",
       "screen_name     has_keyword                                                  \n",
       "BoredApeYC      False              1099.0   124.068244   415.553516    0.0   \n",
       "Eminem          False               188.0  5537.675532  8692.083925  392.0   \n",
       "                True                  2.0  3745.500000  4024.144692  900.0   \n",
       "TrillonaireNFTs False                14.0   418.285714   236.813925    2.0   \n",
       "opensea         False              1085.0   113.103226  1546.156799    0.0   \n",
       "                True                 14.0   307.857143   367.119108    1.0   \n",
       "rarible         False               985.0    29.768528    67.400176    0.0   \n",
       "                True                 15.0    21.866667    13.922575    0.0   \n",
       "\n",
       "                                                                \n",
       "                                 25%     50%      75%      max  \n",
       "screen_name     has_keyword                                     \n",
       "BoredApeYC      False          15.00    28.0    69.00   6213.0  \n",
       "Eminem          False        1496.75  2648.5  5184.75  68467.0  \n",
       "                True         2322.75  3745.5  5168.25   6591.0  \n",
       "TrillonaireNFTs False         232.00   441.0   572.00    731.0  \n",
       "opensea         False          15.00    33.0    63.00  50789.0  \n",
       "                True           37.00   107.5   614.75   1063.0  \n",
       "rarible         False           5.00    13.0    29.00   1008.0  \n",
       "                True           15.00    25.0    27.00     48.0  "
      ]
     },
     "execution_count": 17,
     "metadata": {},
     "output_type": "execute_result"
    }
   ],
   "source": [
    "print(f\"Keyword is {keyword}\")\n",
    "df_ut.groupby(['screen_name','has_keyword'])[['retweet_count']].describe()"
   ]
  }
 ],
 "metadata": {
  "kernelspec": {
   "display_name": "Python 3",
   "language": "python",
   "name": "python3"
  },
  "language_info": {
   "codemirror_mode": {
    "name": "ipython",
    "version": 3
   },
   "file_extension": ".py",
   "mimetype": "text/x-python",
   "name": "python",
   "nbconvert_exporter": "python",
   "pygments_lexer": "ipython3",
   "version": "3.7.2"
  }
 },
 "nbformat": 4,
 "nbformat_minor": 2
}
