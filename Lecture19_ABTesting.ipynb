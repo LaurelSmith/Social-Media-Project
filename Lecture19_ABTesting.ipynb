{
  "cells": [
    {
      "cell_type": "markdown",
      "metadata": {
        "id": "cSqGWIIuUugh"
      },
      "source": [
        "# Lecture 19 - A/B Testing\n",
        "\n",
        "This notebook will show you how to perform A/B testing on Twitter data.\n",
        "\n",
        "Below is the overview of this notebook.\n",
        "\n",
        "<ol type = 1>\n",
        "    <li> Retweet Count vs Keyword</li>\n",
        "    <ol type = 1>\n",
        "      <li> Z-test</li>\n",
        "      <li> T-test</li>\n",
        "      <li> Mann-Whitney U test</li>\n",
        "      <li> Kolmogorov- Smirnov test</li>\n",
        "      <li> Testing Multiple Hypotheses</li>\n",
        "    </ol>\n",
        "    <li> Comparing User Language</li>\n",
        "    <ol type = 1>\n",
        "      <li> Fisher Exact Test</li>\n",
        "    </ol>\n",
        "    <li> Correlation Coefficients</li>\n",
        "    <ol type = 1>\n",
        "         <li> Pearson Correlation Coefficient</li>\n",
        "        <li> Spearman Correlation Coefficient</li>\n",
        "    </ol>\n",
        "    <li> Follower Engagement</li>\n",
        "    <li> Tweet Time</li>\n",
        "\n",
        "</ol>\n",
        "\n",
        "This notebook can be opened in Colab \n",
        "[![Open In Colab](https://colab.research.google.com/assets/colab-badge.svg)](https://colab.research.google.com/github/zlisto/social_media_analytics/blob/main/Lecture19_ABTesting.ipynb)\n",
        "\n",
        "Before starting, select \"Runtime->Factory reset runtime\" to start with your directories and environment in the base state.\n",
        "\n",
        "If you want to save changes to the notebook, select \"File->Save a copy in Drive\" from the top menu in Colab.  This will save the notebook in your Google Drive.\n",
        "\n",
        "\n"
      ]
    },
    {
      "cell_type": "markdown",
      "metadata": {
        "id": "pKSDBIusUugo"
      },
      "source": [
        "# Clones, installs, and imports\n"
      ]
    },
    {
      "cell_type": "markdown",
      "metadata": {
        "id": "qYIOIn7CUugp"
      },
      "source": [
        "## Clone GitHub Repository\n",
        "This will clone the repository to your machine.  This includes the code and data files.  Then change into the directory of the repository."
      ]
    },
    {
      "cell_type": "code",
      "execution_count": 2,
      "metadata": {
        "colab": {
          "base_uri": "https://localhost:8080/"
        },
        "id": "GQUHZuhOUugp",
        "outputId": "faf16dc8-1c9c-4b8f-9972-de1f2fa066f5"
      },
      "outputs": [
        {
          "output_type": "stream",
          "name": "stdout",
          "text": [
            "Cloning into 'social_media_analytics'...\n",
            "remote: Enumerating objects: 390, done.\u001b[K\n",
            "remote: Counting objects: 100% (390/390), done.\u001b[K\n",
            "remote: Compressing objects: 100% (293/293), done.\u001b[K\n",
            "remote: Total 390 (delta 220), reused 260 (delta 93), pack-reused 0\u001b[K\n",
            "Receiving objects: 100% (390/390), 37.55 MiB | 10.55 MiB/s, done.\n",
            "Resolving deltas: 100% (220/220), done.\n",
            "Checking out files: 100% (47/47), done.\n"
          ]
        }
      ],
      "source": [
        "!git clone https://github.com/zlisto/social_media_analytics\n",
        "\n",
        "import os\n",
        "os.chdir(\"social_media_analytics\")"
      ]
    },
    {
      "cell_type": "markdown",
      "metadata": {
        "id": "izgLEdO9Uugq"
      },
      "source": [
        "## Install Requirements \n"
      ]
    },
    {
      "cell_type": "code",
      "execution_count": 3,
      "metadata": {
        "colab": {
          "base_uri": "https://localhost:8080/"
        },
        "id": "NeCVIrDzUugr",
        "outputId": "1f10fa34-e91c-4213-a7c0-ccbbc8b3f85c"
      },
      "outputs": [
        {
          "output_type": "stream",
          "name": "stdout",
          "text": [
            "\u001b[K     |████████████████████████████████| 58 kB 2.6 MB/s \n",
            "\u001b[K     |████████████████████████████████| 4.0 MB 28.7 MB/s \n",
            "\u001b[K     |████████████████████████████████| 88 kB 6.0 MB/s \n",
            "\u001b[K     |████████████████████████████████| 1.6 MB 32.8 MB/s \n",
            "\u001b[K     |████████████████████████████████| 42 kB 623 kB/s \n",
            "\u001b[?25h  Installing build dependencies ... \u001b[?25l\u001b[?25hdone\n",
            "  Getting requirements to build wheel ... \u001b[?25l\u001b[?25hdone\n",
            "    Preparing wheel metadata ... \u001b[?25l\u001b[?25hdone\n",
            "\u001b[K     |████████████████████████████████| 1.8 MB 51.8 MB/s \n",
            "\u001b[K     |████████████████████████████████| 77 kB 6.2 MB/s \n",
            "\u001b[K     |████████████████████████████████| 895 kB 65.7 MB/s \n",
            "\u001b[K     |████████████████████████████████| 6.6 MB 37.8 MB/s \n",
            "\u001b[K     |████████████████████████████████| 596 kB 51.2 MB/s \n",
            "\u001b[K     |████████████████████████████████| 1.1 MB 46.9 MB/s \n",
            "\u001b[K     |████████████████████████████████| 162 kB 67.5 MB/s \n",
            "\u001b[K     |████████████████████████████████| 144 kB 60.0 MB/s \n",
            "\u001b[K     |████████████████████████████████| 181 kB 58.7 MB/s \n",
            "\u001b[K     |████████████████████████████████| 63 kB 1.7 MB/s \n",
            "\u001b[?25h  Building wheel for pyLDAvis (setup.py) ... \u001b[?25l\u001b[?25hdone\n",
            "  Building wheel for umap-learn (setup.py) ... \u001b[?25l\u001b[?25hdone\n",
            "  Building wheel for pynndescent (setup.py) ... \u001b[?25l\u001b[?25hdone\n",
            "  Building wheel for openai (PEP 517) ... \u001b[?25l\u001b[?25hdone\n",
            "  Building wheel for pathtools (setup.py) ... \u001b[?25l\u001b[?25hdone\n"
          ]
        }
      ],
      "source": [
        "!pip install -r requirements.txt --quiet\n"
      ]
    },
    {
      "cell_type": "markdown",
      "metadata": {
        "id": "hbFYqu96Uugr"
      },
      "source": [
        "## Import Packages\n",
        "\n"
      ]
    },
    {
      "cell_type": "code",
      "execution_count": 47,
      "metadata": {
        "id": "06ZqGM1RUugs"
      },
      "outputs": [],
      "source": [
        "from datetime import datetime, timedelta\n",
        "import numpy as np\n",
        "import sqlite3, sys, os\n",
        "import pandas as pd\n",
        "import matplotlib.pyplot as plt\n",
        "import seaborn as sns\n",
        "from collections import Counter\n",
        "from scipy import stats\n",
        "from statsmodels.stats.weightstats import ztest\n",
        "from statsmodels.stats.multitest import multipletests\n",
        "\n",
        "#import statsmodels.stats.multitest.multipletests as multipletests\n",
        "#helper code\n",
        "from scripts.api import *\n",
        "import scripts.TextAnalysis as ta\n",
        "\n",
        "pd.set_option(\"display.max_colwidth\", None)\n"
      ]
    },
    {
      "cell_type": "markdown",
      "source": [
        "# Data Processing"
      ],
      "metadata": {
        "id": "i6dytvPVWaWl"
      }
    },
    {
      "cell_type": "markdown",
      "metadata": {
        "id": "XiR4CbRocy7b"
      },
      "source": [
        "## Load data\n",
        "\n",
        "The data is in `\"data/lec_08_tweets_sentiment.csv\"`.  This contains tweets and their sentiment for several prominent Twitter users."
      ]
    },
    {
      "cell_type": "code",
      "execution_count": 23,
      "metadata": {
        "colab": {
          "base_uri": "https://localhost:8080/",
          "height": 244
        },
        "id": "-i7TA3njcy7c",
        "outputId": "48ec2165-c470-46ea-b0cf-923b98dbe8a9"
      },
      "outputs": [
        {
          "output_type": "stream",
          "name": "stdout",
          "text": [
            "dataframe has 8628 tweets\n"
          ]
        },
        {
          "output_type": "execute_result",
          "data": {
            "text/plain": [
              "     Unnamed: 0                created_at screen_name  \\\n",
              "5166       5164  2020-03-05T17:36:35.000Z   sanbenito   \n",
              "723         723  2020-09-16T01:54:29.000Z   kanyewest   \n",
              "\n",
              "                                                                                        text  \\\n",
              "5166                                             las cosas se hacen de corazón o no se hacen   \n",
              "723   Let’s get it big bro ... you and Michael passed so we can live https://t.co/GIEWDhyepw   \n",
              "\n",
              "     lang  retweet_count  reply_count  like_count  quote_count            id  \\\n",
              "5166   es        96227.0        502.0    183369.0       3044.0  1.235620e+18   \n",
              "723    en         2736.0        547.0     22333.0        522.0  1.306049e+18   \n",
              "\n",
              "                author_id  conversation_id  in_reply_to_user_id   geo  \\\n",
              "5166  1059542139737128960     1.235620e+18                  NaN  None   \n",
              "723             169686021     1.306049e+18                  NaN  None   \n",
              "\n",
              "      sentiment  \n",
              "5166   2.107371  \n",
              "723    4.015745  "
            ],
            "text/html": [
              "\n",
              "  <div id=\"df-a3a1d610-c6eb-4d80-9d01-8b49e81da2ae\">\n",
              "    <div class=\"colab-df-container\">\n",
              "      <div>\n",
              "<style scoped>\n",
              "    .dataframe tbody tr th:only-of-type {\n",
              "        vertical-align: middle;\n",
              "    }\n",
              "\n",
              "    .dataframe tbody tr th {\n",
              "        vertical-align: top;\n",
              "    }\n",
              "\n",
              "    .dataframe thead th {\n",
              "        text-align: right;\n",
              "    }\n",
              "</style>\n",
              "<table border=\"1\" class=\"dataframe\">\n",
              "  <thead>\n",
              "    <tr style=\"text-align: right;\">\n",
              "      <th></th>\n",
              "      <th>Unnamed: 0</th>\n",
              "      <th>created_at</th>\n",
              "      <th>screen_name</th>\n",
              "      <th>text</th>\n",
              "      <th>lang</th>\n",
              "      <th>retweet_count</th>\n",
              "      <th>reply_count</th>\n",
              "      <th>like_count</th>\n",
              "      <th>quote_count</th>\n",
              "      <th>id</th>\n",
              "      <th>author_id</th>\n",
              "      <th>conversation_id</th>\n",
              "      <th>in_reply_to_user_id</th>\n",
              "      <th>geo</th>\n",
              "      <th>sentiment</th>\n",
              "    </tr>\n",
              "  </thead>\n",
              "  <tbody>\n",
              "    <tr>\n",
              "      <th>5166</th>\n",
              "      <td>5164</td>\n",
              "      <td>2020-03-05T17:36:35.000Z</td>\n",
              "      <td>sanbenito</td>\n",
              "      <td>las cosas se hacen de corazón o no se hacen</td>\n",
              "      <td>es</td>\n",
              "      <td>96227.0</td>\n",
              "      <td>502.0</td>\n",
              "      <td>183369.0</td>\n",
              "      <td>3044.0</td>\n",
              "      <td>1.235620e+18</td>\n",
              "      <td>1059542139737128960</td>\n",
              "      <td>1.235620e+18</td>\n",
              "      <td>NaN</td>\n",
              "      <td>None</td>\n",
              "      <td>2.107371</td>\n",
              "    </tr>\n",
              "    <tr>\n",
              "      <th>723</th>\n",
              "      <td>723</td>\n",
              "      <td>2020-09-16T01:54:29.000Z</td>\n",
              "      <td>kanyewest</td>\n",
              "      <td>Let’s get it big bro ... you and Michael passed so we can live https://t.co/GIEWDhyepw</td>\n",
              "      <td>en</td>\n",
              "      <td>2736.0</td>\n",
              "      <td>547.0</td>\n",
              "      <td>22333.0</td>\n",
              "      <td>522.0</td>\n",
              "      <td>1.306049e+18</td>\n",
              "      <td>169686021</td>\n",
              "      <td>1.306049e+18</td>\n",
              "      <td>NaN</td>\n",
              "      <td>None</td>\n",
              "      <td>4.015745</td>\n",
              "    </tr>\n",
              "  </tbody>\n",
              "</table>\n",
              "</div>\n",
              "      <button class=\"colab-df-convert\" onclick=\"convertToInteractive('df-a3a1d610-c6eb-4d80-9d01-8b49e81da2ae')\"\n",
              "              title=\"Convert this dataframe to an interactive table.\"\n",
              "              style=\"display:none;\">\n",
              "        \n",
              "  <svg xmlns=\"http://www.w3.org/2000/svg\" height=\"24px\"viewBox=\"0 0 24 24\"\n",
              "       width=\"24px\">\n",
              "    <path d=\"M0 0h24v24H0V0z\" fill=\"none\"/>\n",
              "    <path d=\"M18.56 5.44l.94 2.06.94-2.06 2.06-.94-2.06-.94-.94-2.06-.94 2.06-2.06.94zm-11 1L8.5 8.5l.94-2.06 2.06-.94-2.06-.94L8.5 2.5l-.94 2.06-2.06.94zm10 10l.94 2.06.94-2.06 2.06-.94-2.06-.94-.94-2.06-.94 2.06-2.06.94z\"/><path d=\"M17.41 7.96l-1.37-1.37c-.4-.4-.92-.59-1.43-.59-.52 0-1.04.2-1.43.59L10.3 9.45l-7.72 7.72c-.78.78-.78 2.05 0 2.83L4 21.41c.39.39.9.59 1.41.59.51 0 1.02-.2 1.41-.59l7.78-7.78 2.81-2.81c.8-.78.8-2.07 0-2.86zM5.41 20L4 18.59l7.72-7.72 1.47 1.35L5.41 20z\"/>\n",
              "  </svg>\n",
              "      </button>\n",
              "      \n",
              "  <style>\n",
              "    .colab-df-container {\n",
              "      display:flex;\n",
              "      flex-wrap:wrap;\n",
              "      gap: 12px;\n",
              "    }\n",
              "\n",
              "    .colab-df-convert {\n",
              "      background-color: #E8F0FE;\n",
              "      border: none;\n",
              "      border-radius: 50%;\n",
              "      cursor: pointer;\n",
              "      display: none;\n",
              "      fill: #1967D2;\n",
              "      height: 32px;\n",
              "      padding: 0 0 0 0;\n",
              "      width: 32px;\n",
              "    }\n",
              "\n",
              "    .colab-df-convert:hover {\n",
              "      background-color: #E2EBFA;\n",
              "      box-shadow: 0px 1px 2px rgba(60, 64, 67, 0.3), 0px 1px 3px 1px rgba(60, 64, 67, 0.15);\n",
              "      fill: #174EA6;\n",
              "    }\n",
              "\n",
              "    [theme=dark] .colab-df-convert {\n",
              "      background-color: #3B4455;\n",
              "      fill: #D2E3FC;\n",
              "    }\n",
              "\n",
              "    [theme=dark] .colab-df-convert:hover {\n",
              "      background-color: #434B5C;\n",
              "      box-shadow: 0px 1px 3px 1px rgba(0, 0, 0, 0.15);\n",
              "      filter: drop-shadow(0px 1px 2px rgba(0, 0, 0, 0.3));\n",
              "      fill: #FFFFFF;\n",
              "    }\n",
              "  </style>\n",
              "\n",
              "      <script>\n",
              "        const buttonEl =\n",
              "          document.querySelector('#df-a3a1d610-c6eb-4d80-9d01-8b49e81da2ae button.colab-df-convert');\n",
              "        buttonEl.style.display =\n",
              "          google.colab.kernel.accessAllowed ? 'block' : 'none';\n",
              "\n",
              "        async function convertToInteractive(key) {\n",
              "          const element = document.querySelector('#df-a3a1d610-c6eb-4d80-9d01-8b49e81da2ae');\n",
              "          const dataTable =\n",
              "            await google.colab.kernel.invokeFunction('convertToInteractive',\n",
              "                                                     [key], {});\n",
              "          if (!dataTable) return;\n",
              "\n",
              "          const docLinkHtml = 'Like what you see? Visit the ' +\n",
              "            '<a target=\"_blank\" href=https://colab.research.google.com/notebooks/data_table.ipynb>data table notebook</a>'\n",
              "            + ' to learn more about interactive tables.';\n",
              "          element.innerHTML = '';\n",
              "          dataTable['output_type'] = 'display_data';\n",
              "          await google.colab.output.renderOutput(dataTable, element);\n",
              "          const docLink = document.createElement('div');\n",
              "          docLink.innerHTML = docLinkHtml;\n",
              "          element.appendChild(docLink);\n",
              "        }\n",
              "      </script>\n",
              "    </div>\n",
              "  </div>\n",
              "  "
            ]
          },
          "metadata": {},
          "execution_count": 23
        }
      ],
      "source": [
        "fname = \"data/lec_08_tweets_sentiment.csv\"\n",
        "df_all = pd.read_csv(fname)\n",
        "ntweets = len(df_all)\n",
        "print(f\"dataframe has {ntweets} tweets\")\n",
        "df_all.sample(n=2)"
      ]
    },
    {
      "cell_type": "markdown",
      "source": [
        "## Add keyword indicator column\n",
        "\n",
        "We will define a list of keywords.  Then we will add a column to the dataframe called `f\"keyword_{keyword}\"` that tells us if the tweet contains the keyword.  "
      ],
      "metadata": {
        "id": "650NVMx7WeQh"
      }
    },
    {
      "cell_type": "code",
      "source": [
        ""
      ],
      "metadata": {
        "id": "rkB9WR6mYyBU"
      },
      "execution_count": null,
      "outputs": []
    },
    {
      "cell_type": "code",
      "execution_count": 24,
      "metadata": {
        "colab": {
          "base_uri": "https://localhost:8080/",
          "height": 401
        },
        "id": "cI629HK8cy7d",
        "outputId": "9431b9bf-2f4b-447c-97d4-8947ac0717b4"
      },
      "outputs": [
        {
          "output_type": "execute_result",
          "data": {
            "text/plain": [
              "     Unnamed: 0                created_at screen_name  \\\n",
              "154         154  2021-08-05T18:57:30.000Z    dogecoin   \n",
              "3931       3929  2021-06-30T16:07:07.000Z     JBALVIN   \n",
              "\n",
              "                                                                                                                                                                                                                                                                                          text  \\\n",
              "154   IMPORTANT! There's messages and posts going around about a Dogecoin \"v1.15.0\" that claims to \"fix vulnerabilities in 1.14.3\".  It points to a non-\"https://t.co/GQ6YBw3JFj\" website. THIS IS NOT A LEGITIMATE VERSION OF THE DOGECOIN CORE CLIENT. Do not download this! Likely malware!   \n",
              "3931                                                                                                                                                                                                         In Da Getto @Skrillex Official Trailer disponible ahora!\\nhttps://t.co/EYfYOYK0Rh   \n",
              "\n",
              "     lang  retweet_count  reply_count  like_count  quote_count            id  \\\n",
              "154    en         1221.0       1210.0      4272.0         45.0  1.423358e+18   \n",
              "3931   it           97.0         44.0      1241.0         15.0  1.410269e+18   \n",
              "\n",
              "       author_id  conversation_id  in_reply_to_user_id   geo  sentiment  \\\n",
              "154   2235729541     1.423358e+18                  NaN  None   1.130715   \n",
              "3931    44670915     1.410269e+18                  NaN  None   3.721791   \n",
              "\n",
              "     keyword_congress keyword_love keyword_bill keyword_hate  \n",
              "154             False        False        False        False  \n",
              "3931            False        False        False        False  "
            ],
            "text/html": [
              "\n",
              "  <div id=\"df-92f6d707-bf1a-49f0-84e4-384dfb093f42\">\n",
              "    <div class=\"colab-df-container\">\n",
              "      <div>\n",
              "<style scoped>\n",
              "    .dataframe tbody tr th:only-of-type {\n",
              "        vertical-align: middle;\n",
              "    }\n",
              "\n",
              "    .dataframe tbody tr th {\n",
              "        vertical-align: top;\n",
              "    }\n",
              "\n",
              "    .dataframe thead th {\n",
              "        text-align: right;\n",
              "    }\n",
              "</style>\n",
              "<table border=\"1\" class=\"dataframe\">\n",
              "  <thead>\n",
              "    <tr style=\"text-align: right;\">\n",
              "      <th></th>\n",
              "      <th>Unnamed: 0</th>\n",
              "      <th>created_at</th>\n",
              "      <th>screen_name</th>\n",
              "      <th>text</th>\n",
              "      <th>lang</th>\n",
              "      <th>retweet_count</th>\n",
              "      <th>reply_count</th>\n",
              "      <th>like_count</th>\n",
              "      <th>quote_count</th>\n",
              "      <th>id</th>\n",
              "      <th>author_id</th>\n",
              "      <th>conversation_id</th>\n",
              "      <th>in_reply_to_user_id</th>\n",
              "      <th>geo</th>\n",
              "      <th>sentiment</th>\n",
              "      <th>keyword_congress</th>\n",
              "      <th>keyword_love</th>\n",
              "      <th>keyword_bill</th>\n",
              "      <th>keyword_hate</th>\n",
              "    </tr>\n",
              "  </thead>\n",
              "  <tbody>\n",
              "    <tr>\n",
              "      <th>154</th>\n",
              "      <td>154</td>\n",
              "      <td>2021-08-05T18:57:30.000Z</td>\n",
              "      <td>dogecoin</td>\n",
              "      <td>IMPORTANT! There's messages and posts going around about a Dogecoin \"v1.15.0\" that claims to \"fix vulnerabilities in 1.14.3\".  It points to a non-\"https://t.co/GQ6YBw3JFj\" website. THIS IS NOT A LEGITIMATE VERSION OF THE DOGECOIN CORE CLIENT. Do not download this! Likely malware!</td>\n",
              "      <td>en</td>\n",
              "      <td>1221.0</td>\n",
              "      <td>1210.0</td>\n",
              "      <td>4272.0</td>\n",
              "      <td>45.0</td>\n",
              "      <td>1.423358e+18</td>\n",
              "      <td>2235729541</td>\n",
              "      <td>1.423358e+18</td>\n",
              "      <td>NaN</td>\n",
              "      <td>None</td>\n",
              "      <td>1.130715</td>\n",
              "      <td>False</td>\n",
              "      <td>False</td>\n",
              "      <td>False</td>\n",
              "      <td>False</td>\n",
              "    </tr>\n",
              "    <tr>\n",
              "      <th>3931</th>\n",
              "      <td>3929</td>\n",
              "      <td>2021-06-30T16:07:07.000Z</td>\n",
              "      <td>JBALVIN</td>\n",
              "      <td>In Da Getto @Skrillex Official Trailer disponible ahora!\\nhttps://t.co/EYfYOYK0Rh</td>\n",
              "      <td>it</td>\n",
              "      <td>97.0</td>\n",
              "      <td>44.0</td>\n",
              "      <td>1241.0</td>\n",
              "      <td>15.0</td>\n",
              "      <td>1.410269e+18</td>\n",
              "      <td>44670915</td>\n",
              "      <td>1.410269e+18</td>\n",
              "      <td>NaN</td>\n",
              "      <td>None</td>\n",
              "      <td>3.721791</td>\n",
              "      <td>False</td>\n",
              "      <td>False</td>\n",
              "      <td>False</td>\n",
              "      <td>False</td>\n",
              "    </tr>\n",
              "  </tbody>\n",
              "</table>\n",
              "</div>\n",
              "      <button class=\"colab-df-convert\" onclick=\"convertToInteractive('df-92f6d707-bf1a-49f0-84e4-384dfb093f42')\"\n",
              "              title=\"Convert this dataframe to an interactive table.\"\n",
              "              style=\"display:none;\">\n",
              "        \n",
              "  <svg xmlns=\"http://www.w3.org/2000/svg\" height=\"24px\"viewBox=\"0 0 24 24\"\n",
              "       width=\"24px\">\n",
              "    <path d=\"M0 0h24v24H0V0z\" fill=\"none\"/>\n",
              "    <path d=\"M18.56 5.44l.94 2.06.94-2.06 2.06-.94-2.06-.94-.94-2.06-.94 2.06-2.06.94zm-11 1L8.5 8.5l.94-2.06 2.06-.94-2.06-.94L8.5 2.5l-.94 2.06-2.06.94zm10 10l.94 2.06.94-2.06 2.06-.94-2.06-.94-.94-2.06-.94 2.06-2.06.94z\"/><path d=\"M17.41 7.96l-1.37-1.37c-.4-.4-.92-.59-1.43-.59-.52 0-1.04.2-1.43.59L10.3 9.45l-7.72 7.72c-.78.78-.78 2.05 0 2.83L4 21.41c.39.39.9.59 1.41.59.51 0 1.02-.2 1.41-.59l7.78-7.78 2.81-2.81c.8-.78.8-2.07 0-2.86zM5.41 20L4 18.59l7.72-7.72 1.47 1.35L5.41 20z\"/>\n",
              "  </svg>\n",
              "      </button>\n",
              "      \n",
              "  <style>\n",
              "    .colab-df-container {\n",
              "      display:flex;\n",
              "      flex-wrap:wrap;\n",
              "      gap: 12px;\n",
              "    }\n",
              "\n",
              "    .colab-df-convert {\n",
              "      background-color: #E8F0FE;\n",
              "      border: none;\n",
              "      border-radius: 50%;\n",
              "      cursor: pointer;\n",
              "      display: none;\n",
              "      fill: #1967D2;\n",
              "      height: 32px;\n",
              "      padding: 0 0 0 0;\n",
              "      width: 32px;\n",
              "    }\n",
              "\n",
              "    .colab-df-convert:hover {\n",
              "      background-color: #E2EBFA;\n",
              "      box-shadow: 0px 1px 2px rgba(60, 64, 67, 0.3), 0px 1px 3px 1px rgba(60, 64, 67, 0.15);\n",
              "      fill: #174EA6;\n",
              "    }\n",
              "\n",
              "    [theme=dark] .colab-df-convert {\n",
              "      background-color: #3B4455;\n",
              "      fill: #D2E3FC;\n",
              "    }\n",
              "\n",
              "    [theme=dark] .colab-df-convert:hover {\n",
              "      background-color: #434B5C;\n",
              "      box-shadow: 0px 1px 3px 1px rgba(0, 0, 0, 0.15);\n",
              "      filter: drop-shadow(0px 1px 2px rgba(0, 0, 0, 0.3));\n",
              "      fill: #FFFFFF;\n",
              "    }\n",
              "  </style>\n",
              "\n",
              "      <script>\n",
              "        const buttonEl =\n",
              "          document.querySelector('#df-92f6d707-bf1a-49f0-84e4-384dfb093f42 button.colab-df-convert');\n",
              "        buttonEl.style.display =\n",
              "          google.colab.kernel.accessAllowed ? 'block' : 'none';\n",
              "\n",
              "        async function convertToInteractive(key) {\n",
              "          const element = document.querySelector('#df-92f6d707-bf1a-49f0-84e4-384dfb093f42');\n",
              "          const dataTable =\n",
              "            await google.colab.kernel.invokeFunction('convertToInteractive',\n",
              "                                                     [key], {});\n",
              "          if (!dataTable) return;\n",
              "\n",
              "          const docLinkHtml = 'Like what you see? Visit the ' +\n",
              "            '<a target=\"_blank\" href=https://colab.research.google.com/notebooks/data_table.ipynb>data table notebook</a>'\n",
              "            + ' to learn more about interactive tables.';\n",
              "          element.innerHTML = '';\n",
              "          dataTable['output_type'] = 'display_data';\n",
              "          await google.colab.output.renderOutput(dataTable, element);\n",
              "          const docLink = document.createElement('div');\n",
              "          docLink.innerHTML = docLinkHtml;\n",
              "          element.appendChild(docLink);\n",
              "        }\n",
              "      </script>\n",
              "    </div>\n",
              "  </div>\n",
              "  "
            ]
          },
          "metadata": {},
          "execution_count": 24
        }
      ],
      "source": [
        "keywords = ['congress','love','bill','hate']\n",
        "for keyword in keywords:\n",
        "  df_all[f'keyword_{keyword}'] = df_all.text.str.contains(keyword, case=False)\n",
        "\n",
        "df_all.sample(n=2)"
      ]
    },
    {
      "cell_type": "markdown",
      "source": [
        "## Add day of week and hour columns\n",
        "\n",
        "We will add columns indicating the hour and day of the week for each tweet."
      ],
      "metadata": {
        "id": "cBSuV6iNXn9g"
      }
    },
    {
      "cell_type": "code",
      "source": [
        "format = \"%Y-%m-%d %H:%M:%S\"\n",
        "df_all = df_all[df_all.created_at!='es']  #remove one weird tweet in this particular dataset\n",
        "\n",
        "df_all['created_at_datetime'] = pd.to_datetime(df_all['created_at'],format=format).dt.tz_localize(None)\n",
        "df_all['day'] = df_all.created_at_datetime.dt.day_name()   #get the day of the tweet\n",
        "df_all['hour'] = df_all.created_at_datetime.dt.hour   #get the hour of the tweet\n",
        "\n",
        "df_all.head(n=2)"
      ],
      "metadata": {
        "colab": {
          "base_uri": "https://localhost:8080/",
          "height": 403
        },
        "id": "jHY9cV2yXmwl",
        "outputId": "5ea2f4d1-2b9b-4284-b5de-42020e634cf0"
      },
      "execution_count": 25,
      "outputs": [
        {
          "output_type": "stream",
          "name": "stderr",
          "text": [
            "/usr/local/lib/python3.7/dist-packages/ipykernel_launcher.py:4: SettingWithCopyWarning: \n",
            "A value is trying to be set on a copy of a slice from a DataFrame.\n",
            "Try using .loc[row_indexer,col_indexer] = value instead\n",
            "\n",
            "See the caveats in the documentation: https://pandas.pydata.org/pandas-docs/stable/user_guide/indexing.html#returning-a-view-versus-a-copy\n",
            "  after removing the cwd from sys.path.\n"
          ]
        },
        {
          "output_type": "execute_result",
          "data": {
            "text/plain": [
              "  Unnamed: 0                created_at screen_name  \\\n",
              "0          0  2022-01-28T23:57:49.000Z    elonmusk   \n",
              "1          1  2022-01-28T23:39:11.000Z    elonmusk   \n",
              "\n",
              "                                          text lang  retweet_count  \\\n",
              "0                @Austen There are many faux 🦄   en          425.0   \n",
              "1  @SawyerMerritt It has been a very long road   en          471.0   \n",
              "\n",
              "   reply_count  like_count  quote_count            id  ...  \\\n",
              "0        722.0      9234.0         52.0  1.487213e+18  ...   \n",
              "1        697.0     12114.0         30.0  1.487209e+18  ...   \n",
              "\n",
              "  in_reply_to_user_id   geo  sentiment keyword_congress  keyword_love  \\\n",
              "0         221838349.0  None   2.171888            False         False   \n",
              "1         243013409.0  None   3.255799            False         False   \n",
              "\n",
              "  keyword_bill keyword_hate created_at_datetime     day  hour  \n",
              "0        False        False 2022-01-28 23:57:49  Friday  23.0  \n",
              "1        False        False 2022-01-28 23:39:11  Friday  23.0  \n",
              "\n",
              "[2 rows x 22 columns]"
            ],
            "text/html": [
              "\n",
              "  <div id=\"df-cf223072-402f-4da8-8001-2892a724299f\">\n",
              "    <div class=\"colab-df-container\">\n",
              "      <div>\n",
              "<style scoped>\n",
              "    .dataframe tbody tr th:only-of-type {\n",
              "        vertical-align: middle;\n",
              "    }\n",
              "\n",
              "    .dataframe tbody tr th {\n",
              "        vertical-align: top;\n",
              "    }\n",
              "\n",
              "    .dataframe thead th {\n",
              "        text-align: right;\n",
              "    }\n",
              "</style>\n",
              "<table border=\"1\" class=\"dataframe\">\n",
              "  <thead>\n",
              "    <tr style=\"text-align: right;\">\n",
              "      <th></th>\n",
              "      <th>Unnamed: 0</th>\n",
              "      <th>created_at</th>\n",
              "      <th>screen_name</th>\n",
              "      <th>text</th>\n",
              "      <th>lang</th>\n",
              "      <th>retweet_count</th>\n",
              "      <th>reply_count</th>\n",
              "      <th>like_count</th>\n",
              "      <th>quote_count</th>\n",
              "      <th>id</th>\n",
              "      <th>...</th>\n",
              "      <th>in_reply_to_user_id</th>\n",
              "      <th>geo</th>\n",
              "      <th>sentiment</th>\n",
              "      <th>keyword_congress</th>\n",
              "      <th>keyword_love</th>\n",
              "      <th>keyword_bill</th>\n",
              "      <th>keyword_hate</th>\n",
              "      <th>created_at_datetime</th>\n",
              "      <th>day</th>\n",
              "      <th>hour</th>\n",
              "    </tr>\n",
              "  </thead>\n",
              "  <tbody>\n",
              "    <tr>\n",
              "      <th>0</th>\n",
              "      <td>0</td>\n",
              "      <td>2022-01-28T23:57:49.000Z</td>\n",
              "      <td>elonmusk</td>\n",
              "      <td>@Austen There are many faux 🦄</td>\n",
              "      <td>en</td>\n",
              "      <td>425.0</td>\n",
              "      <td>722.0</td>\n",
              "      <td>9234.0</td>\n",
              "      <td>52.0</td>\n",
              "      <td>1.487213e+18</td>\n",
              "      <td>...</td>\n",
              "      <td>221838349.0</td>\n",
              "      <td>None</td>\n",
              "      <td>2.171888</td>\n",
              "      <td>False</td>\n",
              "      <td>False</td>\n",
              "      <td>False</td>\n",
              "      <td>False</td>\n",
              "      <td>2022-01-28 23:57:49</td>\n",
              "      <td>Friday</td>\n",
              "      <td>23.0</td>\n",
              "    </tr>\n",
              "    <tr>\n",
              "      <th>1</th>\n",
              "      <td>1</td>\n",
              "      <td>2022-01-28T23:39:11.000Z</td>\n",
              "      <td>elonmusk</td>\n",
              "      <td>@SawyerMerritt It has been a very long road</td>\n",
              "      <td>en</td>\n",
              "      <td>471.0</td>\n",
              "      <td>697.0</td>\n",
              "      <td>12114.0</td>\n",
              "      <td>30.0</td>\n",
              "      <td>1.487209e+18</td>\n",
              "      <td>...</td>\n",
              "      <td>243013409.0</td>\n",
              "      <td>None</td>\n",
              "      <td>3.255799</td>\n",
              "      <td>False</td>\n",
              "      <td>False</td>\n",
              "      <td>False</td>\n",
              "      <td>False</td>\n",
              "      <td>2022-01-28 23:39:11</td>\n",
              "      <td>Friday</td>\n",
              "      <td>23.0</td>\n",
              "    </tr>\n",
              "  </tbody>\n",
              "</table>\n",
              "<p>2 rows × 22 columns</p>\n",
              "</div>\n",
              "      <button class=\"colab-df-convert\" onclick=\"convertToInteractive('df-cf223072-402f-4da8-8001-2892a724299f')\"\n",
              "              title=\"Convert this dataframe to an interactive table.\"\n",
              "              style=\"display:none;\">\n",
              "        \n",
              "  <svg xmlns=\"http://www.w3.org/2000/svg\" height=\"24px\"viewBox=\"0 0 24 24\"\n",
              "       width=\"24px\">\n",
              "    <path d=\"M0 0h24v24H0V0z\" fill=\"none\"/>\n",
              "    <path d=\"M18.56 5.44l.94 2.06.94-2.06 2.06-.94-2.06-.94-.94-2.06-.94 2.06-2.06.94zm-11 1L8.5 8.5l.94-2.06 2.06-.94-2.06-.94L8.5 2.5l-.94 2.06-2.06.94zm10 10l.94 2.06.94-2.06 2.06-.94-2.06-.94-.94-2.06-.94 2.06-2.06.94z\"/><path d=\"M17.41 7.96l-1.37-1.37c-.4-.4-.92-.59-1.43-.59-.52 0-1.04.2-1.43.59L10.3 9.45l-7.72 7.72c-.78.78-.78 2.05 0 2.83L4 21.41c.39.39.9.59 1.41.59.51 0 1.02-.2 1.41-.59l7.78-7.78 2.81-2.81c.8-.78.8-2.07 0-2.86zM5.41 20L4 18.59l7.72-7.72 1.47 1.35L5.41 20z\"/>\n",
              "  </svg>\n",
              "      </button>\n",
              "      \n",
              "  <style>\n",
              "    .colab-df-container {\n",
              "      display:flex;\n",
              "      flex-wrap:wrap;\n",
              "      gap: 12px;\n",
              "    }\n",
              "\n",
              "    .colab-df-convert {\n",
              "      background-color: #E8F0FE;\n",
              "      border: none;\n",
              "      border-radius: 50%;\n",
              "      cursor: pointer;\n",
              "      display: none;\n",
              "      fill: #1967D2;\n",
              "      height: 32px;\n",
              "      padding: 0 0 0 0;\n",
              "      width: 32px;\n",
              "    }\n",
              "\n",
              "    .colab-df-convert:hover {\n",
              "      background-color: #E2EBFA;\n",
              "      box-shadow: 0px 1px 2px rgba(60, 64, 67, 0.3), 0px 1px 3px 1px rgba(60, 64, 67, 0.15);\n",
              "      fill: #174EA6;\n",
              "    }\n",
              "\n",
              "    [theme=dark] .colab-df-convert {\n",
              "      background-color: #3B4455;\n",
              "      fill: #D2E3FC;\n",
              "    }\n",
              "\n",
              "    [theme=dark] .colab-df-convert:hover {\n",
              "      background-color: #434B5C;\n",
              "      box-shadow: 0px 1px 3px 1px rgba(0, 0, 0, 0.15);\n",
              "      filter: drop-shadow(0px 1px 2px rgba(0, 0, 0, 0.3));\n",
              "      fill: #FFFFFF;\n",
              "    }\n",
              "  </style>\n",
              "\n",
              "      <script>\n",
              "        const buttonEl =\n",
              "          document.querySelector('#df-cf223072-402f-4da8-8001-2892a724299f button.colab-df-convert');\n",
              "        buttonEl.style.display =\n",
              "          google.colab.kernel.accessAllowed ? 'block' : 'none';\n",
              "\n",
              "        async function convertToInteractive(key) {\n",
              "          const element = document.querySelector('#df-cf223072-402f-4da8-8001-2892a724299f');\n",
              "          const dataTable =\n",
              "            await google.colab.kernel.invokeFunction('convertToInteractive',\n",
              "                                                     [key], {});\n",
              "          if (!dataTable) return;\n",
              "\n",
              "          const docLinkHtml = 'Like what you see? Visit the ' +\n",
              "            '<a target=\"_blank\" href=https://colab.research.google.com/notebooks/data_table.ipynb>data table notebook</a>'\n",
              "            + ' to learn more about interactive tables.';\n",
              "          element.innerHTML = '';\n",
              "          dataTable['output_type'] = 'display_data';\n",
              "          await google.colab.output.renderOutput(dataTable, element);\n",
              "          const docLink = document.createElement('div');\n",
              "          docLink.innerHTML = docLinkHtml;\n",
              "          element.appendChild(docLink);\n",
              "        }\n",
              "      </script>\n",
              "    </div>\n",
              "  </div>\n",
              "  "
            ]
          },
          "metadata": {},
          "execution_count": 25
        }
      ]
    },
    {
      "cell_type": "markdown",
      "source": [
        "# Retweet Count vs. Keyword\n",
        "\n",
        "We will look at the tweets of a single user and compare rewteet counts vs. keywords."
      ],
      "metadata": {
        "id": "kWqRJn_ElT1h"
      }
    },
    {
      "cell_type": "markdown",
      "source": [
        "## Load data"
      ],
      "metadata": {
        "id": "MTn21TJ71m0M"
      }
    },
    {
      "cell_type": "code",
      "source": [
        "screen_name = 'AOC'\n",
        "df_u = df_all[df_all.screen_name==screen_name].copy()"
      ],
      "metadata": {
        "id": "1tbHdBizm63w"
      },
      "execution_count": 26,
      "outputs": []
    },
    {
      "cell_type": "markdown",
      "source": [
        "## Plot retweet count vs keyword\n",
        "\n",
        "\n",
        "We will plot the mean retweet count vs. keyword for each keyword in the list `keywords`.  We use the `barplot` function and set the confidence intervals with the `ci` parameter."
      ],
      "metadata": {
        "id": "tHYng91AmOXx"
      }
    },
    {
      "cell_type": "code",
      "execution_count": 27,
      "metadata": {
        "colab": {
          "base_uri": "https://localhost:8080/",
          "height": 968
        },
        "id": "6cizkeNwcy7e",
        "outputId": "fcedd570-3b8f-41d4-e2d2-4d60d7769dd0"
      },
      "outputs": [
        {
          "output_type": "display_data",
          "data": {
            "text/plain": [
              "<Figure size 1152x1152 with 4 Axes>"
            ],
            "image/png": "[encoded data removed]"
          },
          "metadata": {
            "needs_background": "light"
          }
        }
      ],
      "source": [
        "fig = plt.figure(figsize = (16,16))\n",
        "\n",
        "c=0\n",
        "for keyword in keywords:\n",
        "    c+=1\n",
        "    plt.subplot(2,2,c)\n",
        "    sns.barplot(data = df_u, x= f\"keyword_{keyword}\", y = 'retweet_count', ci = 95 )\n",
        "    plt.xticks(fontsize = 14)\n",
        "    plt.yticks(fontsize = 14)\n",
        "    plt.ylabel(\"Retweet Count\", fontsize = 18)\n",
        "    plt.xlabel(f\"Contains {keyword}\", fontsize = 18)\n",
        "    plt.title(f\"{screen_name} tweets with {keyword}\", fontsize = 24)\n",
        "    plt.grid()\n",
        "plt.show()"
      ]
    },
    {
      "cell_type": "markdown",
      "source": [
        "## Create Data for Statistical Tests\n",
        "\n",
        "We will created to lists `X0` and `X1` that are the retweet counts without  and with a keyword."
      ],
      "metadata": {
        "id": "w7W7K2celeBY"
      }
    },
    {
      "cell_type": "code",
      "execution_count": 35,
      "metadata": {
        "colab": {
          "base_uri": "https://localhost:8080/"
        },
        "id": "w-Zbf4yFcy7e",
        "outputId": "e0d846cb-ec48-4d37-c06a-7e4e4bbb5e98"
      },
      "outputs": [
        {
          "output_type": "stream",
          "name": "stdout",
          "text": [
            "Tweets of AOC\n",
            "Contains love\tNumber of tweets\tMean retweet count\n",
            "False\t\t1084\t\t\t4042.836\n",
            "True\t\t15\t\t\t3864.333\n"
          ]
        }
      ],
      "source": [
        "keyword = \"love\"\n",
        "\n",
        "X0 = df_u.retweet_count[df_u[f\"keyword_{keyword}\"]==False].dropna().tolist()\n",
        "X1 = df_u.retweet_count[df_u[f\"keyword_{keyword}\"]==True].dropna().tolist()\n",
        "n0 = len(X0)\n",
        "n1 = len(X1)\n",
        "\n",
        "mu0 = np.mean(X0)\n",
        "mu1 = np.mean(X1)\n",
        "\n",
        "print(f\"Tweets of {screen_name}\")\n",
        "print(f\"Contains {keyword}\\tNumber of tweets\\tMean retweet count\")\n",
        "print(f\"False\\t\\t{n0}\\t\\t\\t{mu0:.3f}\")\n",
        "print(f\"True\\t\\t{n1}\\t\\t\\t{mu1:.3f}\")"
      ]
    },
    {
      "cell_type": "markdown",
      "source": [
        "## Z-test\n",
        "\n",
        "We will apply a z-test to see if the mean retweet count is different for tweets with and without the keyword.  We apply the `ztest` function to `X0` and `X1`.  We set `value=0` which means under the null hypothesis the means are equal.  The test returns the z-statistic `zstat` and the p-value `pval`.  We set the significance level `alpha` and if `pval<=alpha`, we can reject the null hypothesis."
      ],
      "metadata": {
        "id": "CwILRGBhpaFm"
      }
    },
    {
      "cell_type": "code",
      "execution_count": 39,
      "metadata": {
        "colab": {
          "base_uri": "https://localhost:8080/"
        },
        "id": "mkDUR12kcy7f",
        "outputId": "39ba2516-c8b6-40cb-ffa0-fd7c71115a51"
      },
      "outputs": [
        {
          "output_type": "stream",
          "name": "stdout",
          "text": [
            "Z-test\n",
            "love: z-stat = 0.097 (0.922)\n",
            "\n",
            "Not significant at 1% level\n"
          ]
        }
      ],
      "source": [
        "(zstat, pval) = ztest(X0, X1, value=0)\n",
        "\n",
        "\n",
        "print(f\"Z-test\")\n",
        "print(f\"{keyword}: z-stat = {zstat:.3f} ({pval:.3f})\\n\")\n",
        "alpha = 0.01  #significance level\n",
        "if pval <=alpha:\n",
        "  print(\"Significant at 1% level\")\n",
        "else:\n",
        "  print(\"Not significant at 1% level\")"
      ]
    },
    {
      "cell_type": "markdown",
      "metadata": {
        "id": "FJBlo0vbcy7i"
      },
      "source": [
        "## T-test \n",
        "\n",
        "We can apply the t-test to compare the mean retweet counts.  The t-test is appropriate when the two groups have different variances.  We use the function `ttest_ind` and set `equal_var=False`."
      ]
    },
    {
      "cell_type": "code",
      "execution_count": 40,
      "metadata": {
        "colab": {
          "base_uri": "https://localhost:8080/"
        },
        "id": "JuDWhrnAcy7i",
        "outputId": "0b152aaa-145f-4a2a-c428-fee52e996259"
      },
      "outputs": [
        {
          "output_type": "stream",
          "name": "stdout",
          "text": [
            "T-test\n",
            "love: t-stat = 0.138 (0.892)\n",
            "\n",
            "Not significant at 1% level\n"
          ]
        }
      ],
      "source": [
        "(tstat, pval) =stats.ttest_ind(X0,X1, equal_var = False)\n",
        "\n",
        "print('T-test')\n",
        "print(f\"{keyword}: t-stat = {tstat:.3f} ({pval:.3f})\\n\")\n",
        "alpha = 0.01  #significance level\n",
        "if pval <=alpha:\n",
        "  print(\"Significant at 1% level\")\n",
        "else:\n",
        "  print(\"Not significant at 1% level\")"
      ]
    },
    {
      "cell_type": "markdown",
      "source": [
        "## Mann-Whitney U test\n",
        "\n",
        "The Mann-Whitney U test is a non-parametric test with the null hypothesis that the medians are equal.  We use the `mannwhitneyu` function."
      ],
      "metadata": {
        "id": "LqEPfJtcrRbb"
      }
    },
    {
      "cell_type": "code",
      "execution_count": 46,
      "metadata": {
        "colab": {
          "base_uri": "https://localhost:8080/"
        },
        "id": "x5Htxqejcy7i",
        "outputId": "7fa2022e-e790-4479-dd00-6668721bd351"
      },
      "outputs": [
        {
          "output_type": "stream",
          "name": "stdout",
          "text": [
            "Mann Whitney U test\n",
            "love: U-stat = 7717.500 (0.368)\n",
            "\n",
            "Not significant at 1% level\n"
          ]
        }
      ],
      "source": [
        "ustat, pval = stats.mannwhitneyu(X0, X1)\n",
        "\n",
        "print('Mann Whitney U test')\n",
        "print(f\"{keyword}: U-stat = {ustat:.3f} ({pval:.3f})\\n\")\n",
        "alpha = 0.01  #significance level\n",
        "if pval <=alpha:\n",
        "  print(\"Significant at 1% level\")\n",
        "else:\n",
        "  print(\"Not significant at 1% level\")"
      ]
    },
    {
      "cell_type": "markdown",
      "source": [
        "## Kolmogorov-Smirnov test\n",
        "\n",
        "The Kolmogorov-Smirnov test is a non-parametric test with the null hypothesis that the cumulative distribution functions of the two groups are equal.  We use the `ks_2samp` function.\n"
      ],
      "metadata": {
        "id": "yZBMVz9YsROf"
      }
    },
    {
      "cell_type": "code",
      "source": [
        "ksstat, pval = stats.ks_2samp(X0, X1)\n",
        "\n",
        "print('Kolmogorov-Smirnov test')\n",
        "print(f\"{keyword}: KS-stat = {ustat:.3f} ({pval:.3f})\\n\")\n",
        "alpha = 0.01  #significance level\n",
        "if pval <=alpha:\n",
        "  print(\"Significant at 1% level\")\n",
        "else:\n",
        "  print(\"Not significant at 1% level\")"
      ],
      "metadata": {
        "colab": {
          "base_uri": "https://localhost:8080/"
        },
        "id": "ukbN_XCzsfro",
        "outputId": "c4e9f349-568c-4e46-9f5f-fefff3147fb9"
      },
      "execution_count": 45,
      "outputs": [
        {
          "output_type": "stream",
          "name": "stdout",
          "text": [
            "Kolmogorov-Smirnov test\n",
            "love: KS-stat = 7717.500 (0.810)\n",
            "\n",
            "Not significant at 1% level\n"
          ]
        }
      ]
    },
    {
      "cell_type": "markdown",
      "metadata": {
        "id": "VVPji_JPcy7k"
      },
      "source": [
        "## Testing Multiple Hypotheses\n",
        "\n",
        "If we test all the keywords to see which ones increase the mean retweet count, we need to correct the p-values to account for the multiple hypotheses.  We first calculate the p-value of a t-test for each keyword.  Then, we save these p-values in a list `pvals`.  Finally, we apply the `multipletests` function to `pvals` and set `method = 'holm'` to use the Holm-Bonferroni method.  We save the results in a dataframe `df_p` so we can read the results easily."
      ]
    },
    {
      "cell_type": "code",
      "execution_count": 51,
      "metadata": {
        "colab": {
          "base_uri": "https://localhost:8080/"
        },
        "id": "b7K50mO5cy7k",
        "outputId": "dbde8d07-037b-4b32-fc87-3666f3cca685"
      },
      "outputs": [
        {
          "output_type": "stream",
          "name": "stdout",
          "text": [
            "congress: t-stat = -0.573 (0.5682)\n",
            "love: t-stat = 0.138 (0.8920)\n",
            "bill: t-stat = 2.976 (0.0035)\n",
            "hate: t-stat = 1.177 (0.3570)\n"
          ]
        }
      ],
      "source": [
        "pvals = []\n",
        "for keyword in keywords:\n",
        "  X0 = df_u.retweet_count[df_u[f\"keyword_{keyword}\"]==False].dropna().tolist()\n",
        "  X1 = df_u.retweet_count[df_u[f\"keyword_{keyword}\"]==True].dropna().tolist()\n",
        "  (tstat, pval) =stats.ttest_ind(X0,X1, equal_var = False)\n",
        "  pvals.append(pval)\n",
        "  print(f\"{keyword}: t-stat = {tstat:.3f} ({pval:.4f})\")\n",
        "\n"
      ]
    },
    {
      "cell_type": "code",
      "execution_count": 57,
      "metadata": {
        "colab": {
          "base_uri": "https://localhost:8080/",
          "height": 193
        },
        "id": "uTWo-hofcy7k",
        "outputId": "c199d65e-e064-4aab-c759-d93d982ed29e"
      },
      "outputs": [
        {
          "output_type": "stream",
          "name": "stdout",
          "text": [
            "Holm-Bonferroni method t-test\n"
          ]
        },
        {
          "output_type": "execute_result",
          "data": {
            "text/plain": [
              "    keyword  reject_H0  pval corrected      pval\n",
              "0  congress      False        1.000000  0.568246\n",
              "1      love      False        1.000000  0.891972\n",
              "2      bill      False        0.013958  0.003490\n",
              "3      hate      False        1.000000  0.357050"
            ],
            "text/html": [
              "\n",
              "  <div id=\"df-e455bfb8-d844-4019-8758-b9718e002d9c\">\n",
              "    <div class=\"colab-df-container\">\n",
              "      <div>\n",
              "<style scoped>\n",
              "    .dataframe tbody tr th:only-of-type {\n",
              "        vertical-align: middle;\n",
              "    }\n",
              "\n",
              "    .dataframe tbody tr th {\n",
              "        vertical-align: top;\n",
              "    }\n",
              "\n",
              "    .dataframe thead th {\n",
              "        text-align: right;\n",
              "    }\n",
              "</style>\n",
              "<table border=\"1\" class=\"dataframe\">\n",
              "  <thead>\n",
              "    <tr style=\"text-align: right;\">\n",
              "      <th></th>\n",
              "      <th>keyword</th>\n",
              "      <th>reject_H0</th>\n",
              "      <th>pval corrected</th>\n",
              "      <th>pval</th>\n",
              "    </tr>\n",
              "  </thead>\n",
              "  <tbody>\n",
              "    <tr>\n",
              "      <th>0</th>\n",
              "      <td>congress</td>\n",
              "      <td>False</td>\n",
              "      <td>1.000000</td>\n",
              "      <td>0.568246</td>\n",
              "    </tr>\n",
              "    <tr>\n",
              "      <th>1</th>\n",
              "      <td>love</td>\n",
              "      <td>False</td>\n",
              "      <td>1.000000</td>\n",
              "      <td>0.891972</td>\n",
              "    </tr>\n",
              "    <tr>\n",
              "      <th>2</th>\n",
              "      <td>bill</td>\n",
              "      <td>False</td>\n",
              "      <td>0.013958</td>\n",
              "      <td>0.003490</td>\n",
              "    </tr>\n",
              "    <tr>\n",
              "      <th>3</th>\n",
              "      <td>hate</td>\n",
              "      <td>False</td>\n",
              "      <td>1.000000</td>\n",
              "      <td>0.357050</td>\n",
              "    </tr>\n",
              "  </tbody>\n",
              "</table>\n",
              "</div>\n",
              "      <button class=\"colab-df-convert\" onclick=\"convertToInteractive('df-e455bfb8-d844-4019-8758-b9718e002d9c')\"\n",
              "              title=\"Convert this dataframe to an interactive table.\"\n",
              "              style=\"display:none;\">\n",
              "        \n",
              "  <svg xmlns=\"http://www.w3.org/2000/svg\" height=\"24px\"viewBox=\"0 0 24 24\"\n",
              "       width=\"24px\">\n",
              "    <path d=\"M0 0h24v24H0V0z\" fill=\"none\"/>\n",
              "    <path d=\"M18.56 5.44l.94 2.06.94-2.06 2.06-.94-2.06-.94-.94-2.06-.94 2.06-2.06.94zm-11 1L8.5 8.5l.94-2.06 2.06-.94-2.06-.94L8.5 2.5l-.94 2.06-2.06.94zm10 10l.94 2.06.94-2.06 2.06-.94-2.06-.94-.94-2.06-.94 2.06-2.06.94z\"/><path d=\"M17.41 7.96l-1.37-1.37c-.4-.4-.92-.59-1.43-.59-.52 0-1.04.2-1.43.59L10.3 9.45l-7.72 7.72c-.78.78-.78 2.05 0 2.83L4 21.41c.39.39.9.59 1.41.59.51 0 1.02-.2 1.41-.59l7.78-7.78 2.81-2.81c.8-.78.8-2.07 0-2.86zM5.41 20L4 18.59l7.72-7.72 1.47 1.35L5.41 20z\"/>\n",
              "  </svg>\n",
              "      </button>\n",
              "      \n",
              "  <style>\n",
              "    .colab-df-container {\n",
              "      display:flex;\n",
              "      flex-wrap:wrap;\n",
              "      gap: 12px;\n",
              "    }\n",
              "\n",
              "    .colab-df-convert {\n",
              "      background-color: #E8F0FE;\n",
              "      border: none;\n",
              "      border-radius: 50%;\n",
              "      cursor: pointer;\n",
              "      display: none;\n",
              "      fill: #1967D2;\n",
              "      height: 32px;\n",
              "      padding: 0 0 0 0;\n",
              "      width: 32px;\n",
              "    }\n",
              "\n",
              "    .colab-df-convert:hover {\n",
              "      background-color: #E2EBFA;\n",
              "      box-shadow: 0px 1px 2px rgba(60, 64, 67, 0.3), 0px 1px 3px 1px rgba(60, 64, 67, 0.15);\n",
              "      fill: #174EA6;\n",
              "    }\n",
              "\n",
              "    [theme=dark] .colab-df-convert {\n",
              "      background-color: #3B4455;\n",
              "      fill: #D2E3FC;\n",
              "    }\n",
              "\n",
              "    [theme=dark] .colab-df-convert:hover {\n",
              "      background-color: #434B5C;\n",
              "      box-shadow: 0px 1px 3px 1px rgba(0, 0, 0, 0.15);\n",
              "      filter: drop-shadow(0px 1px 2px rgba(0, 0, 0, 0.3));\n",
              "      fill: #FFFFFF;\n",
              "    }\n",
              "  </style>\n",
              "\n",
              "      <script>\n",
              "        const buttonEl =\n",
              "          document.querySelector('#df-e455bfb8-d844-4019-8758-b9718e002d9c button.colab-df-convert');\n",
              "        buttonEl.style.display =\n",
              "          google.colab.kernel.accessAllowed ? 'block' : 'none';\n",
              "\n",
              "        async function convertToInteractive(key) {\n",
              "          const element = document.querySelector('#df-e455bfb8-d844-4019-8758-b9718e002d9c');\n",
              "          const dataTable =\n",
              "            await google.colab.kernel.invokeFunction('convertToInteractive',\n",
              "                                                     [key], {});\n",
              "          if (!dataTable) return;\n",
              "\n",
              "          const docLinkHtml = 'Like what you see? Visit the ' +\n",
              "            '<a target=\"_blank\" href=https://colab.research.google.com/notebooks/data_table.ipynb>data table notebook</a>'\n",
              "            + ' to learn more about interactive tables.';\n",
              "          element.innerHTML = '';\n",
              "          dataTable['output_type'] = 'display_data';\n",
              "          await google.colab.output.renderOutput(dataTable, element);\n",
              "          const docLink = document.createElement('div');\n",
              "          docLink.innerHTML = docLinkHtml;\n",
              "          element.appendChild(docLink);\n",
              "        }\n",
              "      </script>\n",
              "    </div>\n",
              "  </div>\n",
              "  "
            ]
          },
          "metadata": {},
          "execution_count": 57
        }
      ],
      "source": [
        "alpha = 0.01  #significance level\n",
        "rejects,pvals_corrected,alphaSidak,alphacBonf = multipletests(pvals, alpha=alpha, \n",
        "                                                             method='holm', \n",
        "                                                             is_sorted=False, \n",
        "                                                             returnsorted=False)\n",
        "df_p = pd.DataFrame({'keyword':keywords,\n",
        "                     'reject_H0':rejects,\n",
        "                     'pval corrected':pvals_corrected,\n",
        "                     'pval':pvals})\n",
        "print(f\"Holm-Bonferroni method t-test\")\n",
        "df_p"
      ]
    },
    {
      "cell_type": "markdown",
      "source": [
        "# Comparing Users Language\n",
        "\n",
        "We will look at two users and see if they use a given keyword with the same frequency."
      ],
      "metadata": {
        "id": "LvaJyEadv3iK"
      }
    },
    {
      "cell_type": "markdown",
      "metadata": {
        "id": "VBeOffA3cy7j"
      },
      "source": [
        "## Contingency table\n",
        "\n",
        "We select two users with screen names given by the variables `w0` and `w1` and we select a keyword `keyword`.  Then we calculate the contingency table for this data.  The table has the values `a`,`b`,`c`,`d` which indicate the number of tweets in each category as follows:\n",
        "\n",
        "|Has keyword |User 0 | User 1|\n",
        "|-|--------|------|\n",
        "|True | a| b|\n",
        "|False| c|d|\n",
        "\n",
        "We store the table as a list of lists in `table`."
      ]
    },
    {
      "cell_type": "code",
      "execution_count": 62,
      "metadata": {
        "colab": {
          "base_uri": "https://localhost:8080/"
        },
        "id": "mlzgb_fkcy7j",
        "outputId": "a2fc0359-ef30-4664-cef6-f3a6bdd40e2e"
      },
      "outputs": [
        {
          "output_type": "stream",
          "name": "stdout",
          "text": [
            "Contingency Table for love\n",
            "Has love\telonmusk\tAOC\n",
            "True\t1\t15\n",
            "False\t99\t1084\n",
            "[[1, 15], [99, 1084]]\n"
          ]
        }
      ],
      "source": [
        "w0 = 'elonmusk'\n",
        "w1= 'AOC'\n",
        "\n",
        "keyword ='love'\n",
        "\n",
        "\n",
        "df0 =df_all[df_all.screen_name==w0]\n",
        "df1 =df_all[df_all.screen_name==w1]\n",
        "\n",
        "a = len(df0[df0.text.str.contains(keyword,  case=False)==True])\n",
        "b = len(df1[df1.text.str.contains(keyword,  case=False)==True])\n",
        "c = len(df0[df0.text.str.contains(keyword,  case=False)==False])\n",
        "d = len(df1[df1.text.str.contains(keyword,  case=False)==False])\n",
        "\n",
        "table = [[a, b], [c, d]]\n",
        "\n",
        "\n",
        "print(f\"Contingency Table for {keyword}\")\n",
        "print(f\"Has {keyword}\\t{w0}\\t{w1}\\nTrue\\t{a}\\t{b}\\nFalse\\t{c}\\t{d}\")\n",
        "\n"
      ]
    },
    {
      "cell_type": "markdown",
      "source": [
        "## Fisher Exact Test\n",
        "\n",
        "We apply the Fisher exact test to the contingency table to see if the frequencies are different for the two users.  This is done with the `fisher_exact` function."
      ],
      "metadata": {
        "id": "M-7mUGgTyICc"
      }
    },
    {
      "cell_type": "code",
      "execution_count": 64,
      "metadata": {
        "colab": {
          "base_uri": "https://localhost:8080/"
        },
        "id": "pob67ISDcy7j",
        "outputId": "585df012-3d9f-490c-a737-9e6b91061c28"
      },
      "outputs": [
        {
          "output_type": "stream",
          "name": "stdout",
          "text": [
            "Fisher exact test\n",
            "love: odds ratio = 0.730 (1.000)\n",
            "\n",
            "Not significant at 1% level\n"
          ]
        }
      ],
      "source": [
        "oddsratio, pval = stats.fisher_exact(table,alternative='two-sided')\n",
        "\n",
        "print('Fisher exact test')\n",
        "print(f\"{keyword}: odds ratio = {oddsratio:.3f} ({pval:.3f})\\n\")\n",
        "alpha = 0.01  #significance level\n",
        "if pval <=alpha:\n",
        "  print(\"Significant at 1% level\")\n",
        "else:\n",
        "  print(\"Not significant at 1% level\")"
      ]
    },
    {
      "cell_type": "markdown",
      "source": [
        "# Correlation Coefficient\n",
        "\n",
        "We will look at the correlation of  sentiment with like count for a single user."
      ],
      "metadata": {
        "id": "2fgpd0u-y-tE"
      }
    },
    {
      "cell_type": "code",
      "execution_count": 65,
      "metadata": {
        "id": "CXSRhcyUUug5"
      },
      "outputs": [],
      "source": [
        "screen_name = 'AOC'\n",
        "df_u = df_all[df_all.screen_name==screen_name].copy()"
      ]
    },
    {
      "cell_type": "markdown",
      "source": [
        "## Pearson Correlation Coefficient\n",
        "\n",
        " We apply the `pearsonr` function to the like_count and sentiment columns of the dataframe.  The function returns the Pearson correlation coefficient `cc` and the p-value `pval`.  "
      ],
      "metadata": {
        "id": "6kIV5NWnzO_G"
      }
    },
    {
      "cell_type": "code",
      "source": [
        "alpha = 0.01\n",
        "cc,pval = stats.pearsonr(df_u.sentiment, df_u.like_count)\n",
        "\n",
        "print(f\"Pearson corr of sentiment and retweet count = {cc:.3f} ({pval:.3f})\")\n",
        "if pval <=alpha:\n",
        "  print(\"Significant at 1% level\")\n",
        "else:\n",
        "  print(\"Not significant at 1% level\")"
      ],
      "metadata": {
        "colab": {
          "base_uri": "https://localhost:8080/"
        },
        "id": "FRV-Pvt_zxxU",
        "outputId": "544bacf5-3894-4ce3-e7aa-2903e3e57d4b"
      },
      "execution_count": 68,
      "outputs": [
        {
          "output_type": "stream",
          "name": "stdout",
          "text": [
            "Pearson corr of sentiment and retweet count = -0.040 (0.183)\n",
            "Not significant at 1% level\n"
          ]
        }
      ]
    },
    {
      "cell_type": "markdown",
      "source": [
        "## Spearman Rank Correlation Coefficient\n",
        "\n",
        "Spearman's rank correlation coefficient is a non-parametric correlation coefficient that is less susceptible to outliers because it considers the rank of the data, not its values."
      ],
      "metadata": {
        "id": "HvTCSQOj0Qav"
      }
    },
    {
      "cell_type": "code",
      "source": [
        "alpha = 0.01\n",
        "cc,pval = stats.spearmanr(df_u.sentiment, df_u.like_count)\n",
        "\n",
        "print(f\"Spearman corr of sentiment and retweet count = {cc:.3f} ({pval:.3f})\")\n",
        "if pval <=alpha:\n",
        "  print(\"Significant at 1% level\")\n",
        "else:\n",
        "  print(\"Not significant at 1% level\")"
      ],
      "metadata": {
        "colab": {
          "base_uri": "https://localhost:8080/"
        },
        "id": "4yMn0TH10fIJ",
        "outputId": "af28f893-6884-4f79-cb3d-7425fa76fb69"
      },
      "execution_count": 69,
      "outputs": [
        {
          "output_type": "stream",
          "name": "stdout",
          "text": [
            "Spearman corr of sentiment and retweet count = 0.070 (0.020)\n",
            "Not significant at 1% level\n"
          ]
        }
      ]
    },
    {
      "cell_type": "markdown",
      "source": [
        "# Follower Engagement\n",
        "\n",
        "Define follower engagement of a tweet as its retweet count divided by follower count.  This measures what fraction of a user's followers retweet their tweet.  We will compare the follower engagement for a pair of users."
      ],
      "metadata": {
        "id": "RqfP49qX1Ef0"
      }
    },
    {
      "cell_type": "markdown",
      "source": [
        "## Load user profiles\n",
        "\n",
        "The user profiles are in the table `users` in the file `\"data/lecture_04\"`."
      ],
      "metadata": {
        "id": "gsfIr4fb17XG"
      }
    },
    {
      "cell_type": "code",
      "source": [
        "fname_db = \"data/lecture_04\"  #database filenmae\n",
        "df_users = DB.fetch(table_name=\"users\", path=fname_db)\n"
      ],
      "metadata": {
        "id": "_5TaS1F01951"
      },
      "execution_count": 71,
      "outputs": []
    },
    {
      "cell_type": "code",
      "source": [
        "df_all.screen_name.unique()"
      ],
      "metadata": {
        "colab": {
          "base_uri": "https://localhost:8080/"
        },
        "id": "htYe8x2h2Y3m",
        "outputId": "b0436ce6-8ef1-4391-bcc5-b72e7f724b10"
      },
      "execution_count": 72,
      "outputs": [
        {
          "output_type": "execute_result",
          "data": {
            "text/plain": [
              "array(['elonmusk', 'dogecoin', 'kanyewest', 'KimKardashian',\n",
              "       'MichelleObama', 'BarackObama', 'JBALVIN', nan, 'sanbenito', 'AOC',\n",
              "       'KingJames', 'RashidaTlaib'], dtype=object)"
            ]
          },
          "metadata": {},
          "execution_count": 72
        }
      ]
    },
    {
      "cell_type": "markdown",
      "source": [
        "## Calculate engagement\n",
        "\n",
        "We choose two users with screen names `w0` and `w1`.  Then we calculate their tweet engagement and save the results to a dataframe `df_e`."
      ],
      "metadata": {
        "id": "hqbtWH3v1yjR"
      }
    },
    {
      "cell_type": "code",
      "source": [
        "w0 = \"KimKardashian\"\n",
        "w1 = \"kanyewest\"\n",
        "screen_names = [w0,w1]\n",
        "Engagements = []\n",
        "for screen_name in screen_names:\n",
        "  f = df_users.followers_count[df_users.screen_name == screen_name]\n",
        "  df_u  = df_all[df_all.screen_name==screen_name].copy()\n",
        "  e = df_u.retweet_count/float(f)\n",
        "  Engagements.append(e.tolist())\n",
        "df_e = pd.DataFrame({'screen_name':screen_names, 'engagement':Engagements})\n"
      ],
      "metadata": {
        "id": "RnT719TQ0pUj"
      },
      "execution_count": null,
      "outputs": []
    },
    {
      "cell_type": "markdown",
      "source": [
        "## T-test for engagement"
      ],
      "metadata": {
        "id": "3TzYZGl-27dY"
      }
    },
    {
      "cell_type": "code",
      "source": [
        "X0 = df_e.engagement[df_e.screen_name==w0].values[0]\n",
        "X1 = df_e.engagement[df_e.screen_name==w1].values[0]\n",
        "\n",
        "mu0 = np.mean(X0)\n",
        "mu1 = np.mean(X1)\n",
        "\n",
        "alpha = 0.01  #significance level\n",
        "tstat, pval =stats.ttest_ind(X0,X1, equal_var = False)\n",
        "\n",
        "print(f\"Screen name\\tMean engagement\")\n",
        "print(f\"{w0}\\t{mu0:e}\")\n",
        "print(f\"{w1}\\t{mu1:e}\")\n",
        "\n",
        "print(f\"{w0} vs {w1}: t-stat = {tstat:.3f} ({pval:.4f})\\n\")\n",
        "if pval <=alpha:\n",
        "  print(\"Significant at 1% level\")\n",
        "else:\n",
        "  print(\"Not significant at 1% level\")"
      ],
      "metadata": {
        "colab": {
          "base_uri": "https://localhost:8080/"
        },
        "id": "PnsZw6Nv23zX",
        "outputId": "ab6824de-9de9-4400-ba34-72978e2411e8"
      },
      "execution_count": 76,
      "outputs": [
        {
          "output_type": "stream",
          "name": "stdout",
          "text": [
            "Screen name\tMean engagement\n",
            "KimKardashian\t1.229807e-05\n",
            "kanyewest\t1.916774e-04\n",
            "KimKardashian vs kanyewest: t-stat = -9.640 (0.0000)\n",
            "\n",
            "Significant at 1% level\n"
          ]
        }
      ]
    },
    {
      "cell_type": "markdown",
      "source": [
        "# Tweet Time\n",
        "\n",
        "We will study how the timing of a tweet affects like counts for a user"
      ],
      "metadata": {
        "id": "xq1N5WuL3lKo"
      }
    },
    {
      "cell_type": "markdown",
      "source": [
        "## Load data"
      ],
      "metadata": {
        "id": "rfv6nd-L3sze"
      }
    },
    {
      "cell_type": "code",
      "source": [
        "screen_name = 'AOC'\n",
        "df_u = df_all[df_all.screen_name==screen_name].copy()"
      ],
      "metadata": {
        "id": "kSZlUwxI3OpG"
      },
      "execution_count": 77,
      "outputs": []
    },
    {
      "cell_type": "markdown",
      "source": [
        "## Plot like count vs. hour"
      ],
      "metadata": {
        "id": "YPSSvie-3zmT"
      }
    },
    {
      "cell_type": "code",
      "source": [
        "fig = plt.figure(figsize =(24,8))\n",
        "sns.barplot(data =df_u , x = 'hour', y = 'retweet_count', ci = 95)\n",
        "plt.xlabel(\"Hour [GMT]\", fontsize = 20)\n",
        "plt.ylabel(\"Mean retweet count\", fontsize = 20)\n",
        "plt.title(f\"{screen_name}\", fontsize = 24)\n",
        "plt.xticks(fontsize = 18)\n",
        "plt.yticks(fontsize = 18)\n",
        "plt.grid()\n",
        "plt.show()"
      ],
      "metadata": {
        "colab": {
          "base_uri": "https://localhost:8080/",
          "height": 538
        },
        "id": "OsxiBOUA33B9",
        "outputId": "a515fc2b-2087-40f9-fc63-345cfdf3da65"
      },
      "execution_count": 88,
      "outputs": [
        {
          "output_type": "display_data",
          "data": {
            "text/plain": [
              "<Figure size 1728x576 with 1 Axes>"
            ],
            "image/png": "[encoded data removed]"
          },
          "metadata": {
            "needs_background": "light"
          }
        }
      ]
    },
    {
      "cell_type": "markdown",
      "source": [
        "## T-test for hours\n",
        "\n",
        "We select two hours and compare the retweet counts using a t-test"
      ],
      "metadata": {
        "id": "SusFZzoi3_KP"
      }
    },
    {
      "cell_type": "code",
      "source": [
        "w0 = 15\n",
        "w1 = 3\n",
        "X0 = df_u.retweet_count[df_u.hour==w0]\n",
        "X1 = df_u.retweet_count[df_u.hour==w1]\n",
        "mu0 = np.mean(X0)\n",
        "mu1 = np.mean(X1)\n",
        "(tstat, pval) =stats.ttest_ind(X0,X1, equal_var = False)\n",
        "\n",
        "print(f\"Hour [GMT]\\tMean retweet count\")\n",
        "print(f\"{w0}\\t{mu0:.2f}\")\n",
        "print(f\"{w1}\\t{mu1:.2f}\")\n",
        "print(f\"{w0} vs {w1}: t-stat = {tstat:.3f} ({pval:.4f})\\n\")\n",
        "alpha = 0.01  #significance level\n",
        "if pval <=alpha:\n",
        "  print(\"Significant at 1% level\")\n",
        "else:\n",
        "  print(\"Not significant at 1% level\")"
      ],
      "metadata": {
        "colab": {
          "base_uri": "https://localhost:8080/"
        },
        "id": "7OTAN4rz4FbR",
        "outputId": "a35425f3-4a8c-4d59-cf3e-4ebe6900b6ff"
      },
      "execution_count": 85,
      "outputs": [
        {
          "output_type": "stream",
          "name": "stdout",
          "text": [
            "Hour [GMT]\tMean retweet count\n",
            "15\t3866.69\n",
            "3\t4641.55\n",
            "15 vs 3: t-stat = -0.594 (0.5543)\n",
            "\n",
            "Not significant at 1% level\n"
          ]
        }
      ]
    },
    {
      "cell_type": "markdown",
      "source": [
        "## T-test for day vs night\n",
        "\n",
        "We can choose a range of hours to compare daytime and nighttime tweets' retweet counts."
      ],
      "metadata": {
        "id": "wzlpN5yo5aPX"
      }
    },
    {
      "cell_type": "code",
      "source": [
        "#daytime\n",
        "X0 = df_u.retweet_count[(12<=df_u.hour) & (df_u.hour<23)]\n",
        "#nighttime\n",
        "X1 = df_u.retweet_count[(0<=df_u.hour) & (df_u.hour<12)]\n",
        "mu0 = np.mean(X0)\n",
        "mu1 = np.mean(X1)\n",
        "(tstat, pval) =stats.ttest_ind(X0,X1, equal_var = False)\n",
        "\n",
        "print(f\"Hour [GMT]\\tMean retweet count\")\n",
        "print(f\"Day\\t{mu0:.2f}\")\n",
        "print(f\"Night\\t{mu1:.2f}\")\n",
        "print(f\"{w0} vs {w1}: t-stat = {tstat:.3f} ({pval:.4f})\\n\")\n",
        "alpha = 0.01  #significance level\n",
        "if pval <=alpha:\n",
        "  print(\"Significant at 1% level\")\n",
        "else:\n",
        "  print(\"Not significant at 1% level\")"
      ],
      "metadata": {
        "colab": {
          "base_uri": "https://localhost:8080/"
        },
        "id": "65o5z3zt4NC_",
        "outputId": "1620ea21-7691-470f-9143-87f54b781813"
      },
      "execution_count": 87,
      "outputs": [
        {
          "output_type": "stream",
          "name": "stdout",
          "text": [
            "Hour [GMT]\tMean retweet count\n",
            "Day\t3916.28\n",
            "Night\t4598.05\n",
            "15 vs 3: t-stat = -1.374 (0.1701)\n",
            "\n",
            "Not significant at 1% level\n"
          ]
        }
      ]
    }
  ],
  "metadata": {
    "colab": {
      "collapsed_sections": [],
      "name": "Lecture19_ABTesting.ipynb",
      "provenance": [],
      "toc_visible": true
    },
    "kernelspec": {
      "display_name": "Python 3",
      "language": "python",
      "name": "python3"
    },
    "language_info": {
      "codemirror_mode": {
        "name": "ipython",
        "version": 3
      },
      "file_extension": ".py",
      "mimetype": "text/x-python",
      "name": "python",
      "nbconvert_exporter": "python",
      "pygments_lexer": "ipython3",
      "version": "3.7.2"
    }
  },
  "nbformat": 4,
  "nbformat_minor": 0
}